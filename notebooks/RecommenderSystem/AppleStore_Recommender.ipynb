{
 "cells": [
  {
   "cell_type": "code",
   "execution_count": 1,
   "metadata": {
    "collapsed": true
   },
   "outputs": [],
   "source": [
    "# Import modules\n",
    "import numpy as np\n",
    "import pandas as pd\n",
    "import quandl\n",
    "from itertools import combinations\n",
    "from datetime import datetime\n",
    "from datetime import timedelta\n",
    "\n",
    "\n",
    "from sklearn.neighbors import KNeighborsClassifier\n",
    "from sklearn.cluster import KMeans\n",
    "\n",
    "# Plotting preferences\n",
    "%matplotlib inline\n",
    "import matplotlib.pyplot as plt\n",
    "import seaborn as sns\n",
    "\n",
    "import nltk\n",
    "import string\n",
    "import re"
   ]
  },
  {
   "cell_type": "code",
   "execution_count": 3,
   "metadata": {
    "collapsed": false
   },
   "outputs": [],
   "source": [
    "#Reading Apple app store data\n",
    "\n",
    "df = pd.read_csv('app-store-apple-data-set-10k-apps/AppleStore.csv')\n",
    "\n",
    "desc = pd.read_csv('app-store-apple-data-set-10k-apps/appleStore_description.csv')"
   ]
  },
  {
   "cell_type": "code",
   "execution_count": 4,
   "metadata": {
    "collapsed": false
   },
   "outputs": [
    {
     "name": "stdout",
     "output_type": "stream",
     "text": [
      "<class 'pandas.core.frame.DataFrame'>\n",
      "RangeIndex: 7197 entries, 0 to 7196\n",
      "Data columns (total 17 columns):\n",
      "Unnamed: 0          7197 non-null int64\n",
      "id                  7197 non-null int64\n",
      "track_name          7197 non-null object\n",
      "size_bytes          7197 non-null int64\n",
      "currency            7197 non-null object\n",
      "price               7197 non-null float64\n",
      "rating_count_tot    7197 non-null int64\n",
      "rating_count_ver    7197 non-null int64\n",
      "user_rating         7197 non-null float64\n",
      "user_rating_ver     7197 non-null float64\n",
      "ver                 7197 non-null object\n",
      "cont_rating         7197 non-null object\n",
      "prime_genre         7197 non-null object\n",
      "sup_devices.num     7197 non-null int64\n",
      "ipadSc_urls.num     7197 non-null int64\n",
      "lang.num            7197 non-null int64\n",
      "vpp_lic             7197 non-null int64\n",
      "dtypes: float64(3), int64(9), object(5)\n",
      "memory usage: 955.9+ KB\n"
     ]
    }
   ],
   "source": [
    "df.info()"
   ]
  },
  {
   "cell_type": "code",
   "execution_count": 5,
   "metadata": {
    "collapsed": false
   },
   "outputs": [
    {
     "data": {
      "text/html": [
       "<div>\n",
       "<style scoped>\n",
       "    .dataframe tbody tr th:only-of-type {\n",
       "        vertical-align: middle;\n",
       "    }\n",
       "\n",
       "    .dataframe tbody tr th {\n",
       "        vertical-align: top;\n",
       "    }\n",
       "\n",
       "    .dataframe thead th {\n",
       "        text-align: right;\n",
       "    }\n",
       "</style>\n",
       "<table border=\"1\" class=\"dataframe\">\n",
       "  <thead>\n",
       "    <tr style=\"text-align: right;\">\n",
       "      <th></th>\n",
       "      <th>Unnamed: 0</th>\n",
       "      <th>id</th>\n",
       "      <th>track_name</th>\n",
       "      <th>size_bytes</th>\n",
       "      <th>currency</th>\n",
       "      <th>price</th>\n",
       "      <th>rating_count_tot</th>\n",
       "      <th>rating_count_ver</th>\n",
       "      <th>user_rating</th>\n",
       "      <th>user_rating_ver</th>\n",
       "      <th>ver</th>\n",
       "      <th>cont_rating</th>\n",
       "      <th>prime_genre</th>\n",
       "      <th>sup_devices.num</th>\n",
       "      <th>ipadSc_urls.num</th>\n",
       "      <th>lang.num</th>\n",
       "      <th>vpp_lic</th>\n",
       "    </tr>\n",
       "  </thead>\n",
       "  <tbody>\n",
       "    <tr>\n",
       "      <th>0</th>\n",
       "      <td>1</td>\n",
       "      <td>281656475</td>\n",
       "      <td>PAC-MAN Premium</td>\n",
       "      <td>100788224</td>\n",
       "      <td>USD</td>\n",
       "      <td>3.99</td>\n",
       "      <td>21292</td>\n",
       "      <td>26</td>\n",
       "      <td>4.0</td>\n",
       "      <td>4.5</td>\n",
       "      <td>6.3.5</td>\n",
       "      <td>4+</td>\n",
       "      <td>Games</td>\n",
       "      <td>38</td>\n",
       "      <td>5</td>\n",
       "      <td>10</td>\n",
       "      <td>1</td>\n",
       "    </tr>\n",
       "    <tr>\n",
       "      <th>1</th>\n",
       "      <td>2</td>\n",
       "      <td>281796108</td>\n",
       "      <td>Evernote - stay organized</td>\n",
       "      <td>158578688</td>\n",
       "      <td>USD</td>\n",
       "      <td>0.00</td>\n",
       "      <td>161065</td>\n",
       "      <td>26</td>\n",
       "      <td>4.0</td>\n",
       "      <td>3.5</td>\n",
       "      <td>8.2.2</td>\n",
       "      <td>4+</td>\n",
       "      <td>Productivity</td>\n",
       "      <td>37</td>\n",
       "      <td>5</td>\n",
       "      <td>23</td>\n",
       "      <td>1</td>\n",
       "    </tr>\n",
       "    <tr>\n",
       "      <th>2</th>\n",
       "      <td>3</td>\n",
       "      <td>281940292</td>\n",
       "      <td>WeatherBug - Local Weather, Radar, Maps, Alerts</td>\n",
       "      <td>100524032</td>\n",
       "      <td>USD</td>\n",
       "      <td>0.00</td>\n",
       "      <td>188583</td>\n",
       "      <td>2822</td>\n",
       "      <td>3.5</td>\n",
       "      <td>4.5</td>\n",
       "      <td>5.0.0</td>\n",
       "      <td>4+</td>\n",
       "      <td>Weather</td>\n",
       "      <td>37</td>\n",
       "      <td>5</td>\n",
       "      <td>3</td>\n",
       "      <td>1</td>\n",
       "    </tr>\n",
       "    <tr>\n",
       "      <th>3</th>\n",
       "      <td>4</td>\n",
       "      <td>282614216</td>\n",
       "      <td>eBay: Best App to Buy, Sell, Save! Online Shop...</td>\n",
       "      <td>128512000</td>\n",
       "      <td>USD</td>\n",
       "      <td>0.00</td>\n",
       "      <td>262241</td>\n",
       "      <td>649</td>\n",
       "      <td>4.0</td>\n",
       "      <td>4.5</td>\n",
       "      <td>5.10.0</td>\n",
       "      <td>12+</td>\n",
       "      <td>Shopping</td>\n",
       "      <td>37</td>\n",
       "      <td>5</td>\n",
       "      <td>9</td>\n",
       "      <td>1</td>\n",
       "    </tr>\n",
       "    <tr>\n",
       "      <th>4</th>\n",
       "      <td>5</td>\n",
       "      <td>282935706</td>\n",
       "      <td>Bible</td>\n",
       "      <td>92774400</td>\n",
       "      <td>USD</td>\n",
       "      <td>0.00</td>\n",
       "      <td>985920</td>\n",
       "      <td>5320</td>\n",
       "      <td>4.5</td>\n",
       "      <td>5.0</td>\n",
       "      <td>7.5.1</td>\n",
       "      <td>4+</td>\n",
       "      <td>Reference</td>\n",
       "      <td>37</td>\n",
       "      <td>5</td>\n",
       "      <td>45</td>\n",
       "      <td>1</td>\n",
       "    </tr>\n",
       "  </tbody>\n",
       "</table>\n",
       "</div>"
      ],
      "text/plain": [
       "   Unnamed: 0         id                                         track_name  \\\n",
       "0           1  281656475                                    PAC-MAN Premium   \n",
       "1           2  281796108                          Evernote - stay organized   \n",
       "2           3  281940292    WeatherBug - Local Weather, Radar, Maps, Alerts   \n",
       "3           4  282614216  eBay: Best App to Buy, Sell, Save! Online Shop...   \n",
       "4           5  282935706                                              Bible   \n",
       "\n",
       "   size_bytes currency  price  rating_count_tot  rating_count_ver  \\\n",
       "0   100788224      USD   3.99             21292                26   \n",
       "1   158578688      USD   0.00            161065                26   \n",
       "2   100524032      USD   0.00            188583              2822   \n",
       "3   128512000      USD   0.00            262241               649   \n",
       "4    92774400      USD   0.00            985920              5320   \n",
       "\n",
       "   user_rating  user_rating_ver     ver cont_rating   prime_genre  \\\n",
       "0          4.0              4.5   6.3.5          4+         Games   \n",
       "1          4.0              3.5   8.2.2          4+  Productivity   \n",
       "2          3.5              4.5   5.0.0          4+       Weather   \n",
       "3          4.0              4.5  5.10.0         12+      Shopping   \n",
       "4          4.5              5.0   7.5.1          4+     Reference   \n",
       "\n",
       "   sup_devices.num  ipadSc_urls.num  lang.num  vpp_lic  \n",
       "0               38                5        10        1  \n",
       "1               37                5        23        1  \n",
       "2               37                5         3        1  \n",
       "3               37                5         9        1  \n",
       "4               37                5        45        1  "
      ]
     },
     "execution_count": 5,
     "metadata": {},
     "output_type": "execute_result"
    }
   ],
   "source": [
    "df.head()"
   ]
  },
  {
   "cell_type": "code",
   "execution_count": 7,
   "metadata": {
    "collapsed": false
   },
   "outputs": [
    {
     "name": "stdout",
     "output_type": "stream",
     "text": [
      "False\n"
     ]
    }
   ],
   "source": [
    "#Checking to see if there are any apps duplicated in the dataset \n",
    "\n",
    "print(any(df['id'].duplicated()))"
   ]
  },
  {
   "cell_type": "code",
   "execution_count": 8,
   "metadata": {
    "collapsed": false
   },
   "outputs": [
    {
     "data": {
      "text/plain": [
       "Unnamed: 0          0\n",
       "id                  0\n",
       "track_name          0\n",
       "size_bytes          0\n",
       "currency            0\n",
       "price               0\n",
       "rating_count_tot    0\n",
       "rating_count_ver    0\n",
       "user_rating         0\n",
       "user_rating_ver     0\n",
       "ver                 0\n",
       "cont_rating         0\n",
       "prime_genre         0\n",
       "sup_devices.num     0\n",
       "ipadSc_urls.num     0\n",
       "lang.num            0\n",
       "vpp_lic             0\n",
       "dtype: int64"
      ]
     },
     "execution_count": 8,
     "metadata": {},
     "output_type": "execute_result"
    }
   ],
   "source": [
    "#Checking for null values\n",
    "\n",
    "df.isnull().sum()"
   ]
  },
  {
   "cell_type": "code",
   "execution_count": 9,
   "metadata": {
    "collapsed": false
   },
   "outputs": [
    {
     "name": "stderr",
     "output_type": "stream",
     "text": [
      "/Users/sirishat/anaconda/lib/python2.7/site-packages/seaborn/categorical.py:1428: FutureWarning: remove_na is deprecated and is a private function. Do not use.\n",
      "  stat_data = remove_na(group_data)\n"
     ]
    },
    {
     "data": {
      "image/png": "[encoded data removed]",
      "text/plain": [
       "<Figure size 842.4x595.44 with 1 Axes>"
      ]
     },
     "metadata": {},
     "output_type": "display_data"
    }
   ],
   "source": [
    "# Displaying the Rating frequency of the apps\n",
    "\n",
    "sns.set(rc={'figure.figsize': (11.7, 8.27)})\n",
    "sns.set_style('whitegrid')\n",
    "ax = sns.countplot(x='user_rating', data=df, palette=sns.color_palette('Blues'))\n",
    "ax.set(xlabel='Rating', ylabel='Count')\n",
    "plt.show()"
   ]
  },
  {
   "cell_type": "code",
   "execution_count": 10,
   "metadata": {
    "collapsed": false
   },
   "outputs": [
    {
     "data": {
      "image/png": "[encoded data removed]",
      "text/plain": [
       "<Figure size 842.4x595.44 with 1 Axes>"
      ]
     },
     "metadata": {},
     "output_type": "display_data"
    }
   ],
   "source": [
    "# Number of ratings per app KDE distribution\n",
    "\n",
    "ax = sns.kdeplot(df['rating_count_tot'], shade=True, color='green')\n",
    "plt.show()"
   ]
  },
  {
   "cell_type": "markdown",
   "metadata": {},
   "source": [
    "# Simple Reco"
   ]
  },
  {
   "cell_type": "code",
   "execution_count": 11,
   "metadata": {
    "collapsed": false
   },
   "outputs": [
    {
     "name": "stdout",
     "output_type": "stream",
     "text": [
      "3.52695567598\n"
     ]
    }
   ],
   "source": [
    "#Calculating the mean rating for the app\n",
    "\n",
    "C = df['user_rating'].mean()\n",
    "\n",
    "print(C)"
   ]
  },
  {
   "cell_type": "code",
   "execution_count": 13,
   "metadata": {
    "collapsed": false
   },
   "outputs": [
    {
     "name": "stdout",
     "output_type": "stream",
     "text": [
      "4782.6\n"
     ]
    }
   ],
   "source": [
    "#Calculating number of reviews per app that lie in the 80th percentile \n",
    "\n",
    "m = df['rating_count_tot'].quantile(0.80)\n",
    "\n",
    "print(m)"
   ]
  },
  {
   "cell_type": "code",
   "execution_count": 14,
   "metadata": {
    "collapsed": false
   },
   "outputs": [
    {
     "data": {
      "text/plain": [
       "(1440, 17)"
      ]
     },
     "execution_count": 14,
     "metadata": {},
     "output_type": "execute_result"
    }
   ],
   "source": [
    "#Filtering out the apps based on the number of ratings \n",
    "\n",
    "filt_df = df.copy().loc[df['rating_count_tot']>=m]\n",
    "\n",
    "filt_df.shape"
   ]
  },
  {
   "cell_type": "code",
   "execution_count": 15,
   "metadata": {
    "collapsed": true
   },
   "outputs": [],
   "source": [
    "# Function that computes the weighted rating of each app\n",
    "def weighted_rating(x, m=m, C=C):\n",
    "    v = x['rating_count_tot']\n",
    "    R = x['user_rating']\n",
    "    # Calculation based on the formula\n",
    "    return (v/(v+m) * R) + (m/(m+v) * C)"
   ]
  },
  {
   "cell_type": "code",
   "execution_count": 16,
   "metadata": {
    "collapsed": true
   },
   "outputs": [],
   "source": [
    "# Define a new feature 'score' and calculate its value with the above function\n",
    "filt_df['score'] = filt_df.apply(weighted_rating, axis=1)"
   ]
  },
  {
   "cell_type": "code",
   "execution_count": 17,
   "metadata": {
    "collapsed": false
   },
   "outputs": [
    {
     "data": {
      "text/html": [
       "<div>\n",
       "<style scoped>\n",
       "    .dataframe tbody tr th:only-of-type {\n",
       "        vertical-align: middle;\n",
       "    }\n",
       "\n",
       "    .dataframe tbody tr th {\n",
       "        vertical-align: top;\n",
       "    }\n",
       "\n",
       "    .dataframe thead th {\n",
       "        text-align: right;\n",
       "    }\n",
       "</style>\n",
       "<table border=\"1\" class=\"dataframe\">\n",
       "  <thead>\n",
       "    <tr style=\"text-align: right;\">\n",
       "      <th></th>\n",
       "      <th>Unnamed: 0</th>\n",
       "      <th>id</th>\n",
       "      <th>track_name</th>\n",
       "      <th>size_bytes</th>\n",
       "      <th>currency</th>\n",
       "      <th>price</th>\n",
       "      <th>rating_count_tot</th>\n",
       "      <th>rating_count_ver</th>\n",
       "      <th>user_rating</th>\n",
       "      <th>user_rating_ver</th>\n",
       "      <th>ver</th>\n",
       "      <th>cont_rating</th>\n",
       "      <th>prime_genre</th>\n",
       "      <th>sup_devices.num</th>\n",
       "      <th>ipadSc_urls.num</th>\n",
       "      <th>lang.num</th>\n",
       "      <th>vpp_lic</th>\n",
       "      <th>score</th>\n",
       "    </tr>\n",
       "  </thead>\n",
       "  <tbody>\n",
       "    <tr>\n",
       "      <th>0</th>\n",
       "      <td>1</td>\n",
       "      <td>281656475</td>\n",
       "      <td>PAC-MAN Premium</td>\n",
       "      <td>100788224</td>\n",
       "      <td>USD</td>\n",
       "      <td>3.99</td>\n",
       "      <td>21292</td>\n",
       "      <td>26</td>\n",
       "      <td>4.0</td>\n",
       "      <td>4.5</td>\n",
       "      <td>6.3.5</td>\n",
       "      <td>4+</td>\n",
       "      <td>Games</td>\n",
       "      <td>38</td>\n",
       "      <td>5</td>\n",
       "      <td>10</td>\n",
       "      <td>1</td>\n",
       "      <td>3.913234</td>\n",
       "    </tr>\n",
       "    <tr>\n",
       "      <th>1</th>\n",
       "      <td>2</td>\n",
       "      <td>281796108</td>\n",
       "      <td>Evernote - stay organized</td>\n",
       "      <td>158578688</td>\n",
       "      <td>USD</td>\n",
       "      <td>0.00</td>\n",
       "      <td>161065</td>\n",
       "      <td>26</td>\n",
       "      <td>4.0</td>\n",
       "      <td>3.5</td>\n",
       "      <td>8.2.2</td>\n",
       "      <td>4+</td>\n",
       "      <td>Productivity</td>\n",
       "      <td>37</td>\n",
       "      <td>5</td>\n",
       "      <td>23</td>\n",
       "      <td>1</td>\n",
       "      <td>3.986359</td>\n",
       "    </tr>\n",
       "    <tr>\n",
       "      <th>2</th>\n",
       "      <td>3</td>\n",
       "      <td>281940292</td>\n",
       "      <td>WeatherBug - Local Weather, Radar, Maps, Alerts</td>\n",
       "      <td>100524032</td>\n",
       "      <td>USD</td>\n",
       "      <td>0.00</td>\n",
       "      <td>188583</td>\n",
       "      <td>2822</td>\n",
       "      <td>3.5</td>\n",
       "      <td>4.5</td>\n",
       "      <td>5.0.0</td>\n",
       "      <td>4+</td>\n",
       "      <td>Weather</td>\n",
       "      <td>37</td>\n",
       "      <td>5</td>\n",
       "      <td>3</td>\n",
       "      <td>1</td>\n",
       "      <td>3.500667</td>\n",
       "    </tr>\n",
       "    <tr>\n",
       "      <th>3</th>\n",
       "      <td>4</td>\n",
       "      <td>282614216</td>\n",
       "      <td>eBay: Best App to Buy, Sell, Save! Online Shop...</td>\n",
       "      <td>128512000</td>\n",
       "      <td>USD</td>\n",
       "      <td>0.00</td>\n",
       "      <td>262241</td>\n",
       "      <td>649</td>\n",
       "      <td>4.0</td>\n",
       "      <td>4.5</td>\n",
       "      <td>5.10.0</td>\n",
       "      <td>12+</td>\n",
       "      <td>Shopping</td>\n",
       "      <td>37</td>\n",
       "      <td>5</td>\n",
       "      <td>9</td>\n",
       "      <td>1</td>\n",
       "      <td>3.991527</td>\n",
       "    </tr>\n",
       "    <tr>\n",
       "      <th>4</th>\n",
       "      <td>5</td>\n",
       "      <td>282935706</td>\n",
       "      <td>Bible</td>\n",
       "      <td>92774400</td>\n",
       "      <td>USD</td>\n",
       "      <td>0.00</td>\n",
       "      <td>985920</td>\n",
       "      <td>5320</td>\n",
       "      <td>4.5</td>\n",
       "      <td>5.0</td>\n",
       "      <td>7.5.1</td>\n",
       "      <td>4+</td>\n",
       "      <td>Reference</td>\n",
       "      <td>37</td>\n",
       "      <td>5</td>\n",
       "      <td>45</td>\n",
       "      <td>1</td>\n",
       "      <td>4.495303</td>\n",
       "    </tr>\n",
       "  </tbody>\n",
       "</table>\n",
       "</div>"
      ],
      "text/plain": [
       "   Unnamed: 0         id                                         track_name  \\\n",
       "0           1  281656475                                    PAC-MAN Premium   \n",
       "1           2  281796108                          Evernote - stay organized   \n",
       "2           3  281940292    WeatherBug - Local Weather, Radar, Maps, Alerts   \n",
       "3           4  282614216  eBay: Best App to Buy, Sell, Save! Online Shop...   \n",
       "4           5  282935706                                              Bible   \n",
       "\n",
       "   size_bytes currency  price  rating_count_tot  rating_count_ver  \\\n",
       "0   100788224      USD   3.99             21292                26   \n",
       "1   158578688      USD   0.00            161065                26   \n",
       "2   100524032      USD   0.00            188583              2822   \n",
       "3   128512000      USD   0.00            262241               649   \n",
       "4    92774400      USD   0.00            985920              5320   \n",
       "\n",
       "   user_rating  user_rating_ver     ver cont_rating   prime_genre  \\\n",
       "0          4.0              4.5   6.3.5          4+         Games   \n",
       "1          4.0              3.5   8.2.2          4+  Productivity   \n",
       "2          3.5              4.5   5.0.0          4+       Weather   \n",
       "3          4.0              4.5  5.10.0         12+      Shopping   \n",
       "4          4.5              5.0   7.5.1          4+     Reference   \n",
       "\n",
       "   sup_devices.num  ipadSc_urls.num  lang.num  vpp_lic     score  \n",
       "0               38                5        10        1  3.913234  \n",
       "1               37                5        23        1  3.986359  \n",
       "2               37                5         3        1  3.500667  \n",
       "3               37                5         9        1  3.991527  \n",
       "4               37                5        45        1  4.495303  "
      ]
     },
     "execution_count": 17,
     "metadata": {},
     "output_type": "execute_result"
    }
   ],
   "source": [
    "filt_df.head(5)"
   ]
  },
  {
   "cell_type": "code",
   "execution_count": 18,
   "metadata": {
    "collapsed": true
   },
   "outputs": [],
   "source": [
    "#Sorting the dataframe based on the aboves calculated scores\n",
    "\n",
    "filt_df = filt_df.sort_values('score', ascending=False)"
   ]
  },
  {
   "cell_type": "code",
   "execution_count": 19,
   "metadata": {
    "collapsed": false
   },
   "outputs": [
    {
     "data": {
      "text/html": [
       "<div>\n",
       "<style scoped>\n",
       "    .dataframe tbody tr th:only-of-type {\n",
       "        vertical-align: middle;\n",
       "    }\n",
       "\n",
       "    .dataframe tbody tr th {\n",
       "        vertical-align: top;\n",
       "    }\n",
       "\n",
       "    .dataframe thead th {\n",
       "        text-align: right;\n",
       "    }\n",
       "</style>\n",
       "<table border=\"1\" class=\"dataframe\">\n",
       "  <thead>\n",
       "    <tr style=\"text-align: right;\">\n",
       "      <th></th>\n",
       "      <th>id</th>\n",
       "      <th>track_name</th>\n",
       "      <th>user_rating</th>\n",
       "      <th>rating_count_tot</th>\n",
       "      <th>score</th>\n",
       "    </tr>\n",
       "  </thead>\n",
       "  <tbody>\n",
       "    <tr>\n",
       "      <th>1104</th>\n",
       "      <td>487119327</td>\n",
       "      <td>Head Soccer</td>\n",
       "      <td>5.0</td>\n",
       "      <td>481564</td>\n",
       "      <td>4.985514</td>\n",
       "    </tr>\n",
       "    <tr>\n",
       "      <th>302</th>\n",
       "      <td>350642635</td>\n",
       "      <td>Plants vs. Zombies</td>\n",
       "      <td>5.0</td>\n",
       "      <td>426463</td>\n",
       "      <td>4.983664</td>\n",
       "    </tr>\n",
       "    <tr>\n",
       "      <th>3086</th>\n",
       "      <td>930574573</td>\n",
       "      <td>Sniper 3D Assassin: Shoot to Kill Gun Game</td>\n",
       "      <td>5.0</td>\n",
       "      <td>386521</td>\n",
       "      <td>4.981996</td>\n",
       "    </tr>\n",
       "    <tr>\n",
       "      <th>2177</th>\n",
       "      <td>698255242</td>\n",
       "      <td>Geometry Dash Lite</td>\n",
       "      <td>5.0</td>\n",
       "      <td>370370</td>\n",
       "      <td>4.981221</td>\n",
       "    </tr>\n",
       "    <tr>\n",
       "      <th>498</th>\n",
       "      <td>387428400</td>\n",
       "      <td>Infinity Blade</td>\n",
       "      <td>5.0</td>\n",
       "      <td>326482</td>\n",
       "      <td>4.978733</td>\n",
       "    </tr>\n",
       "    <tr>\n",
       "      <th>1877</th>\n",
       "      <td>625334537</td>\n",
       "      <td>Geometry Dash</td>\n",
       "      <td>5.0</td>\n",
       "      <td>266440</td>\n",
       "      <td>4.974025</td>\n",
       "    </tr>\n",
       "    <tr>\n",
       "      <th>810</th>\n",
       "      <td>436491861</td>\n",
       "      <td>Domino's Pizza USA</td>\n",
       "      <td>5.0</td>\n",
       "      <td>258624</td>\n",
       "      <td>4.973254</td>\n",
       "    </tr>\n",
       "    <tr>\n",
       "      <th>2731</th>\n",
       "      <td>887947640</td>\n",
       "      <td>CSR Racing 2</td>\n",
       "      <td>5.0</td>\n",
       "      <td>257100</td>\n",
       "      <td>4.973099</td>\n",
       "    </tr>\n",
       "    <tr>\n",
       "      <th>1802</th>\n",
       "      <td>600674056</td>\n",
       "      <td>Pictoword: Fun 2 Pics Guess What's the Word Tr...</td>\n",
       "      <td>5.0</td>\n",
       "      <td>186089</td>\n",
       "      <td>4.963090</td>\n",
       "    </tr>\n",
       "    <tr>\n",
       "      <th>350</th>\n",
       "      <td>363282253</td>\n",
       "      <td>Plants vs. Zombies HD</td>\n",
       "      <td>5.0</td>\n",
       "      <td>163598</td>\n",
       "      <td>4.958160</td>\n",
       "    </tr>\n",
       "    <tr>\n",
       "      <th>1484</th>\n",
       "      <td>552039496</td>\n",
       "      <td>The Room</td>\n",
       "      <td>5.0</td>\n",
       "      <td>143908</td>\n",
       "      <td>4.952620</td>\n",
       "    </tr>\n",
       "    <tr>\n",
       "      <th>1817</th>\n",
       "      <td>606190854</td>\n",
       "      <td>Iron Force</td>\n",
       "      <td>5.0</td>\n",
       "      <td>141634</td>\n",
       "      <td>4.951884</td>\n",
       "    </tr>\n",
       "    <tr>\n",
       "      <th>1918</th>\n",
       "      <td>635573390</td>\n",
       "      <td>Sniper Shooter: Gun Shooting Games</td>\n",
       "      <td>5.0</td>\n",
       "      <td>134080</td>\n",
       "      <td>4.949267</td>\n",
       "    </tr>\n",
       "    <tr>\n",
       "      <th>467</th>\n",
       "      <td>381471023</td>\n",
       "      <td>Flashlight Ⓞ</td>\n",
       "      <td>5.0</td>\n",
       "      <td>130450</td>\n",
       "      <td>4.947905</td>\n",
       "    </tr>\n",
       "    <tr>\n",
       "      <th>884</th>\n",
       "      <td>448639966</td>\n",
       "      <td>Pic Collage - Picture Editor &amp; Photo Collage M...</td>\n",
       "      <td>5.0</td>\n",
       "      <td>123433</td>\n",
       "      <td>4.945054</td>\n",
       "    </tr>\n",
       "  </tbody>\n",
       "</table>\n",
       "</div>"
      ],
      "text/plain": [
       "             id                                         track_name  \\\n",
       "1104  487119327                                        Head Soccer   \n",
       "302   350642635                                 Plants vs. Zombies   \n",
       "3086  930574573         Sniper 3D Assassin: Shoot to Kill Gun Game   \n",
       "2177  698255242                                 Geometry Dash Lite   \n",
       "498   387428400                                     Infinity Blade   \n",
       "1877  625334537                                      Geometry Dash   \n",
       "810   436491861                                 Domino's Pizza USA   \n",
       "2731  887947640                                       CSR Racing 2   \n",
       "1802  600674056  Pictoword: Fun 2 Pics Guess What's the Word Tr...   \n",
       "350   363282253                              Plants vs. Zombies HD   \n",
       "1484  552039496                                           The Room   \n",
       "1817  606190854                                         Iron Force   \n",
       "1918  635573390                 Sniper Shooter: Gun Shooting Games   \n",
       "467   381471023                                       Flashlight Ⓞ   \n",
       "884   448639966  Pic Collage - Picture Editor & Photo Collage M...   \n",
       "\n",
       "      user_rating  rating_count_tot     score  \n",
       "1104          5.0            481564  4.985514  \n",
       "302           5.0            426463  4.983664  \n",
       "3086          5.0            386521  4.981996  \n",
       "2177          5.0            370370  4.981221  \n",
       "498           5.0            326482  4.978733  \n",
       "1877          5.0            266440  4.974025  \n",
       "810           5.0            258624  4.973254  \n",
       "2731          5.0            257100  4.973099  \n",
       "1802          5.0            186089  4.963090  \n",
       "350           5.0            163598  4.958160  \n",
       "1484          5.0            143908  4.952620  \n",
       "1817          5.0            141634  4.951884  \n",
       "1918          5.0            134080  4.949267  \n",
       "467           5.0            130450  4.947905  \n",
       "884           5.0            123433  4.945054  "
      ]
     },
     "execution_count": 19,
     "metadata": {},
     "output_type": "execute_result"
    }
   ],
   "source": [
    "#Print the top 15 apps\n",
    "filt_df[['id','track_name', 'user_rating', 'rating_count_tot', 'score']].head(15)"
   ]
  },
  {
   "cell_type": "markdown",
   "metadata": {},
   "source": [
    "# Collaborative Filtering"
   ]
  },
  {
   "cell_type": "code",
   "execution_count": 20,
   "metadata": {
    "collapsed": false
   },
   "outputs": [
    {
     "name": "stdout",
     "output_type": "stream",
     "text": [
      "Data points: \n",
      "[[  5.00000000e+00   4.81564000e+05   4.98551448e+00]\n",
      " [  5.00000000e+00   4.26463000e+05   4.98366364e+00]\n",
      " [  5.00000000e+00   3.86521000e+05   4.98199612e+00]\n",
      " ..., \n",
      " [  2.00000000e+00   1.35670000e+04   2.39798242e+00]\n",
      " [  2.00000000e+00   5.61700000e+04   2.11981143e+00]\n",
      " [  2.00000000e+00   1.87315000e+05   2.03801619e+00]]\n",
      "Labels: \n",
      "[1104  302 3086 ...,  437  439   86]\n"
     ]
    },
    {
     "data": {
      "text/plain": [
       "KNeighborsClassifier(algorithm='auto', leaf_size=30, metric='minkowski',\n",
       "           metric_params=None, n_jobs=1, n_neighbors=20, p=2,\n",
       "           weights='uniform')"
      ]
     },
     "execution_count": 20,
     "metadata": {},
     "output_type": "execute_result"
    }
   ],
   "source": [
    "# Setting up the model\n",
    "\n",
    "# Recommend 20 similar items\n",
    "engine = KNeighborsClassifier(n_neighbors=20)\n",
    "\n",
    "# Training data points\n",
    "data_points = filt_df[['user_rating', 'rating_count_tot', 'score']].values\n",
    "\n",
    "#Training labels\n",
    "labels = filt_df.index.values\n",
    "\n",
    "print(\"Data points: \")\n",
    "print(data_points)\n",
    "print(\"Labels: \")\n",
    "print(labels)\n",
    "\n",
    "engine.fit(data_points, labels)"
   ]
  },
  {
   "cell_type": "code",
   "execution_count": 21,
   "metadata": {
    "collapsed": true
   },
   "outputs": [],
   "source": [
    "#Setting app name as index of the dataframe\n",
    "\n",
    "filt_df = filt_df.set_index('track_name')"
   ]
  },
  {
   "cell_type": "code",
   "execution_count": 22,
   "metadata": {
    "collapsed": false
   },
   "outputs": [
    {
     "name": "stdout",
     "output_type": "stream",
     "text": [
      "Recommended apps: \n",
      "[Index([u'Head Soccer', u'Google – Search made just for mobile',\n",
      "       u'The Weather Channel: Forecast, Radar & Alerts',\n",
      "       u'Despicable Me: Minion Rush', u'DragonVale',\n",
      "       u'Calorie Counter & Diet Tracker by MyFitnessPal', u'PAC-MAN',\n",
      "       u'The Sims™ FreePlay', u'Google Earth', u'Minecraft: Pocket Edition',\n",
      "       u'Plants vs. Zombies', u'Clear Vision (17+)', u'Sonic Dash',\n",
      "       u'Groupon - Deals, Coupons & Discount Shopping App', u'8 Ball Pool™',\n",
      "       u'Tiny Tower - Free City Building', u'Jetpack Joyride',\n",
      "       u'Bike Race - Top Motorcycle Racing Games',\n",
      "       u'Shazam - Discover music, artists, videos & lyrics',\n",
      "       u'Kim Kardashian: Hollywood'],\n",
      "      dtype='object', name=u'track_name')]\n"
     ]
    }
   ],
   "source": [
    "# Enter app name to get a list of 20 recommended items\n",
    "\n",
    "# User entered value\n",
    "app_name = 'Head Soccer'\n",
    "\n",
    "app_data = [filt_df.loc[app_name][['user_rating','rating_count_tot','score']].values]\n",
    "\n",
    "recommended_apps = engine.kneighbors(X=app_data, n_neighbors=20, return_distance=False)\n",
    "\n",
    "# List of app names form the indexes\n",
    "\n",
    "apps_list = []\n",
    "\n",
    "for each in recommended_apps:\n",
    "    apps_list.append(filt_df.iloc[each].index)\n",
    "\n",
    "print(\"Recommended apps: \")\n",
    "print(apps_list)"
   ]
  },
  {
   "cell_type": "code",
   "execution_count": 24,
   "metadata": {
    "collapsed": false
   },
   "outputs": [
    {
     "data": {
      "image/png": "[encoded data removed]",
      "text/plain": [
       "<Figure size 842.4x595.44 with 1 Axes>"
      ]
     },
     "metadata": {},
     "output_type": "display_data"
    },
    {
     "data": {
      "image/png": "[encoded data removed]",
      "text/plain": [
       "<Figure size 842.4x595.44 with 1 Axes>"
      ]
     },
     "metadata": {},
     "output_type": "display_data"
    }
   ],
   "source": [
    "# Showing recommended apps\n",
    "\n",
    "ax = filt_df.plot(kind='scatter', x='user_rating', y='rating_count_tot', color='grey', alpha=0.20)\n",
    "filt_df.iloc[recommended_apps[0]].plot(kind='scatter', x='user_rating', y='rating_count_tot',\\\n",
    "                                                   color='orange', alpha=0.5, ax=ax)\n",
    "\n",
    "ax2 = filt_df.plot(kind='scatter', x='user_rating', y='score', color='grey')\n",
    "filt_df.iloc[recommended_apps[0]].plot(kind='scatter', x='user_rating', y='score',\\\n",
    "                                                   color='orange', alpha=0.5, ax=ax2)\n",
    "\n",
    "\n",
    "plt.show()"
   ]
  },
  {
   "cell_type": "markdown",
   "metadata": {},
   "source": [
    "   # Content Based"
   ]
  },
  {
   "cell_type": "code",
   "execution_count": 26,
   "metadata": {
    "collapsed": false
   },
   "outputs": [
    {
     "data": {
      "text/html": [
       "<div>\n",
       "<style scoped>\n",
       "    .dataframe tbody tr th:only-of-type {\n",
       "        vertical-align: middle;\n",
       "    }\n",
       "\n",
       "    .dataframe tbody tr th {\n",
       "        vertical-align: top;\n",
       "    }\n",
       "\n",
       "    .dataframe thead th {\n",
       "        text-align: right;\n",
       "    }\n",
       "</style>\n",
       "<table border=\"1\" class=\"dataframe\">\n",
       "  <thead>\n",
       "    <tr style=\"text-align: right;\">\n",
       "      <th></th>\n",
       "      <th>id</th>\n",
       "      <th>track_name</th>\n",
       "      <th>size_bytes</th>\n",
       "      <th>app_desc</th>\n",
       "    </tr>\n",
       "  </thead>\n",
       "  <tbody>\n",
       "    <tr>\n",
       "      <th>0</th>\n",
       "      <td>281656475</td>\n",
       "      <td>PAC-MAN Premium</td>\n",
       "      <td>100788224</td>\n",
       "      <td>SAVE 20%, now only $3.99 for a limited time!\\n...</td>\n",
       "    </tr>\n",
       "    <tr>\n",
       "      <th>1</th>\n",
       "      <td>281796108</td>\n",
       "      <td>Evernote - stay organized</td>\n",
       "      <td>158578688</td>\n",
       "      <td>Let Evernote change the way you organize your ...</td>\n",
       "    </tr>\n",
       "    <tr>\n",
       "      <th>2</th>\n",
       "      <td>281940292</td>\n",
       "      <td>WeatherBug - Local Weather, Radar, Maps, Alerts</td>\n",
       "      <td>100524032</td>\n",
       "      <td>Download the most popular free weather app pow...</td>\n",
       "    </tr>\n",
       "    <tr>\n",
       "      <th>3</th>\n",
       "      <td>282614216</td>\n",
       "      <td>eBay: Best App to Buy, Sell, Save! Online Shop...</td>\n",
       "      <td>128512000</td>\n",
       "      <td>The eBay app is the best way to find anything ...</td>\n",
       "    </tr>\n",
       "    <tr>\n",
       "      <th>4</th>\n",
       "      <td>282935706</td>\n",
       "      <td>Bible</td>\n",
       "      <td>92774400</td>\n",
       "      <td>On more than 250 million devices around the wo...</td>\n",
       "    </tr>\n",
       "  </tbody>\n",
       "</table>\n",
       "</div>"
      ],
      "text/plain": [
       "          id                                         track_name  size_bytes  \\\n",
       "0  281656475                                    PAC-MAN Premium   100788224   \n",
       "1  281796108                          Evernote - stay organized   158578688   \n",
       "2  281940292    WeatherBug - Local Weather, Radar, Maps, Alerts   100524032   \n",
       "3  282614216  eBay: Best App to Buy, Sell, Save! Online Shop...   128512000   \n",
       "4  282935706                                              Bible    92774400   \n",
       "\n",
       "                                            app_desc  \n",
       "0  SAVE 20%, now only $3.99 for a limited time!\\n...  \n",
       "1  Let Evernote change the way you organize your ...  \n",
       "2  Download the most popular free weather app pow...  \n",
       "3  The eBay app is the best way to find anything ...  \n",
       "4  On more than 250 million devices around the wo...  "
      ]
     },
     "execution_count": 26,
     "metadata": {},
     "output_type": "execute_result"
    }
   ],
   "source": [
    "#Based on app description\n",
    "\n",
    "desc.head()"
   ]
  },
  {
   "cell_type": "code",
   "execution_count": 27,
   "metadata": {
    "collapsed": false
   },
   "outputs": [
    {
     "name": "stdout",
     "output_type": "stream",
     "text": [
      "<class 'pandas.core.frame.DataFrame'>\n",
      "RangeIndex: 7197 entries, 0 to 7196\n",
      "Data columns (total 4 columns):\n",
      "id            7197 non-null int64\n",
      "track_name    7197 non-null object\n",
      "size_bytes    7197 non-null int64\n",
      "app_desc      7197 non-null object\n",
      "dtypes: int64(2), object(2)\n",
      "memory usage: 225.0+ KB\n"
     ]
    }
   ],
   "source": [
    "desc.info()"
   ]
  },
  {
   "cell_type": "code",
   "execution_count": 38,
   "metadata": {
    "collapsed": true
   },
   "outputs": [],
   "source": [
    "#Merging the app store and app description datasets \n",
    "\n",
    "combined_df = pd.merge(df,desc,on=['id','track_name','size_bytes'],how='inner')"
   ]
  },
  {
   "cell_type": "code",
   "execution_count": 39,
   "metadata": {
    "collapsed": false
   },
   "outputs": [
    {
     "name": "stdout",
     "output_type": "stream",
     "text": [
      "<class 'pandas.core.frame.DataFrame'>\n",
      "Int64Index: 7197 entries, 0 to 7196\n",
      "Data columns (total 18 columns):\n",
      "Unnamed: 0          7197 non-null int64\n",
      "id                  7197 non-null int64\n",
      "track_name          7197 non-null object\n",
      "size_bytes          7197 non-null int64\n",
      "currency            7197 non-null object\n",
      "price               7197 non-null float64\n",
      "rating_count_tot    7197 non-null int64\n",
      "rating_count_ver    7197 non-null int64\n",
      "user_rating         7197 non-null float64\n",
      "user_rating_ver     7197 non-null float64\n",
      "ver                 7197 non-null object\n",
      "cont_rating         7197 non-null object\n",
      "prime_genre         7197 non-null object\n",
      "sup_devices.num     7197 non-null int64\n",
      "ipadSc_urls.num     7197 non-null int64\n",
      "lang.num            7197 non-null int64\n",
      "vpp_lic             7197 non-null int64\n",
      "app_desc            7197 non-null object\n",
      "dtypes: float64(3), int64(9), object(6)\n",
      "memory usage: 1.0+ MB\n"
     ]
    }
   ],
   "source": [
    "combined_df.info()"
   ]
  },
  {
   "cell_type": "code",
   "execution_count": 30,
   "metadata": {
    "collapsed": false
   },
   "outputs": [
    {
     "data": {
      "text/plain": [
       "0    SAVE 20%, now only $3.99 for a limited time!\\n...\n",
       "1    Let Evernote change the way you organize your ...\n",
       "2    Download the most popular free weather app pow...\n",
       "3    The eBay app is the best way to find anything ...\n",
       "4    On more than 250 million devices around the wo...\n",
       "Name: app_desc, dtype: object"
      ]
     },
     "execution_count": 30,
     "metadata": {},
     "output_type": "execute_result"
    }
   ],
   "source": [
    "combined_df['app_desc'].head()"
   ]
  },
  {
   "cell_type": "code",
   "execution_count": 31,
   "metadata": {
    "collapsed": false
   },
   "outputs": [
    {
     "data": {
      "text/plain": [
       "(7197, 95415)"
      ]
     },
     "execution_count": 31,
     "metadata": {},
     "output_type": "execute_result"
    }
   ],
   "source": [
    "# need to computer word vectors of each app\n",
    "\n",
    "#Import TfIdfVectorizer from scikit-learn\n",
    "from sklearn.feature_extraction.text import TfidfVectorizer\n",
    "\n",
    "#Define a TF-IDF Vectorizer Object. Remove all english stop words such as 'the', 'a'\n",
    "tfidf = TfidfVectorizer(stop_words='english')\n",
    "\n",
    "#Replace NaN with an empty string\n",
    "combined_df['app_desc'] = combined_df['app_desc'].fillna('')\n",
    "\n",
    "#Construct the required TF-IDF matrix by fitting and transforming the data\n",
    "tfidf_matrix = tfidf.fit_transform(combined_df['app_desc'])\n",
    "\n",
    "#Output the shape of tfidf_matrix\n",
    "tfidf_matrix.shape"
   ]
  },
  {
   "cell_type": "code",
   "execution_count": 32,
   "metadata": {
    "collapsed": true
   },
   "outputs": [],
   "source": [
    "# Import linear_kernel\n",
    "from sklearn.metrics.pairwise import linear_kernel\n",
    "\n",
    "# Compute the cosine similarity matrix\n",
    "cosine_sim = linear_kernel(tfidf_matrix, tfidf_matrix)"
   ]
  },
  {
   "cell_type": "code",
   "execution_count": 40,
   "metadata": {
    "collapsed": false
   },
   "outputs": [],
   "source": [
    "#Construct a reverse map of indices and app titles\n",
    "indices = pd.Series(combined_df.index, index=combined_df['track_name']).drop_duplicates()"
   ]
  },
  {
   "cell_type": "code",
   "execution_count": 41,
   "metadata": {
    "collapsed": true
   },
   "outputs": [],
   "source": [
    "# Function that takes in app title as input and outputs most similar app\n",
    "def get_recommendations(app, cosine_sim=cosine_sim):\n",
    "    # Get the index of the app that matches the title\n",
    "    idx = indices[app]\n",
    "\n",
    "    # Get the pairwsie similarity scores of all apps with that app\n",
    "    sim_scores = list(enumerate(cosine_sim[idx]))\n",
    "\n",
    "    # Sort the apps based on the similarity scores\n",
    "    sim_scores = sorted(sim_scores, key=lambda x: x[1], reverse=True)\n",
    "\n",
    "    # Get the scores of the 10 most similar apps\n",
    "    sim_scores = sim_scores[1:26]\n",
    "\n",
    "    # Get the app indices\n",
    "    app_indices = [i[0] for i in sim_scores]\n",
    "\n",
    "    # Return the top 10 most similar apps\n",
    "    return combined_df['track_name'].iloc[app_indices]"
   ]
  },
  {
   "cell_type": "code",
   "execution_count": 42,
   "metadata": {
    "collapsed": false
   },
   "outputs": [
    {
     "data": {
      "text/plain": [
       "3561                                      Head Basketball\n",
       "2501                                        Soccer Stars™\n",
       "6834                                            Soccer 17\n",
       "5963                                 Stickman Soccer 2016\n",
       "2746                        Soccer Star 2016 World Legend\n",
       "275                                           Angry Birds\n",
       "368                                        Angry Birds HD\n",
       "3330    Play Basketball Hoops 2017 - Real slam dunks game\n",
       "7023                                        Dumber League\n",
       "937                 Top Eleven 2017 - Be a Soccer Manager\n",
       "2626                                     Pixel Cup Soccer\n",
       "5664                                  Pixel Cup Soccer 16\n",
       "6315                                    NBC Sports Scores\n",
       "3950                             Dream League Soccer 2017\n",
       "4594                                  Pelé: Soccer Legend\n",
       "3082                                     PES CLUB MANAGER\n",
       "6324                                      Ketchapp Soccer\n",
       "1308                                         PopCam　Photo\n",
       "6075                              Head Soccer France 2016\n",
       "6444                                      Flick Soccer 17\n",
       "1203          CoPilot GPS – Car Navigation & Offline Maps\n",
       "5044                Blocky Soccer - Endless Arcade Runner\n",
       "1123                            Fresh Tracks Snowboarding\n",
       "6087                               Tiki Taka World Soccer\n",
       "2559                                          Score! Hero\n",
       "Name: track_name, dtype: object"
      ]
     },
     "execution_count": 42,
     "metadata": {},
     "output_type": "execute_result"
    }
   ],
   "source": [
    "get_recommendations('Head Soccer')"
   ]
  },
  {
   "cell_type": "code",
   "execution_count": 45,
   "metadata": {
    "collapsed": false
   },
   "outputs": [
    {
     "data": {
      "text/plain": [
       "4354             FastEver 2 - Quick memo app for Evernote\n",
       "535                                             Noteshelf\n",
       "2318      Notepad+: Take Notes, Annotate and Write on PDF\n",
       "3931      Whink - Note taking, Annotate & Record Lectures\n",
       "654                                     Microsoft OneNote\n",
       "344                                            Notability\n",
       "3359               Carbo - Handwriting in the Digital Age\n",
       "228                     ScanBizCards Business Card Reader\n",
       "4019                                                 Bear\n",
       "508            CamScanner +| PDF Document Scanner and OCR\n",
       "1213    Paper by FiftyThree - Sketch, Diagram, Take Notes\n",
       "426                                            Notes Plus\n",
       "188                                          Epson iPrint\n",
       "1522    MetaMoJi Note - note taking and PDF annotation...\n",
       "5481                                               Jottit\n",
       "639                                SecurityCam for iPhone\n",
       "3607     Scanner For Me - PDF Scan with OCR for Documents\n",
       "4962             WatchNotes - Display notes on watch face\n",
       "1173                     ALON Dictaphone - Voice Recorder\n",
       "1637        InstaLogo Logo Creator - Graphic design maker\n",
       "220       Scanner Pro - PDF document scanner app with OCR\n",
       "399                AudioNote - Notepad and Voice Recorder\n",
       "184                                       My Measures PRO\n",
       "2522                          Scanbot - Scanner App & Fax\n",
       "820     TextGrabber – image to text: OCR & translate p...\n",
       "Name: track_name, dtype: object"
      ]
     },
     "execution_count": 45,
     "metadata": {},
     "output_type": "execute_result"
    }
   ],
   "source": [
    "get_recommendations('Evernote - stay organized')"
   ]
  },
  {
   "cell_type": "code",
   "execution_count": 46,
   "metadata": {
    "collapsed": true
   },
   "outputs": [],
   "source": [
    "#Improving the above recommender system by incorporating a popularity filter - based on ratings and reviews for the\n",
    "# top 30 most similar apps. This filters out the top 10 apps most similar to the given app along with being the \n",
    "# highest rated with most rating counts as well. \n",
    "\n",
    "def improved_recommendations(title):\n",
    "    idx = indices[title]\n",
    "    sim_scores = list(enumerate(cosine_sim[idx]))\n",
    "    sim_scores = sorted(sim_scores, key=lambda x: x[1], reverse=True)\n",
    "    sim_scores = sim_scores[1:26]\n",
    "    app_indices = [i[0] for i in sim_scores]\n",
    "    \n",
    "    apps = combined_df.iloc[app_indices][['track_name', 'user_rating', 'rating_count_tot']]\n",
    "    rating = apps[apps['user_rating'].notnull()]['user_rating'].astype('int')\n",
    "    rating_count = apps[apps['rating_count_tot'].notnull()]['rating_count_tot'].astype('int')\n",
    "    C = rating.mean()\n",
    "    m = rating_count.quantile(0.60)\n",
    "    qual = apps[(apps['rating_count_tot'] >= m) & (apps['user_rating'].notnull())]\n",
    "    qual['user_rating'] = qual['user_rating'].astype('int')\n",
    "    qual['rating_count_tot'] = qual['rating_count_tot'].astype('int')\n",
    "    qual['score'] = qual.apply(weighted_rating, axis=1)\n",
    "    qual = qual.sort_values('score', ascending=False).head(10)\n",
    "    return qual"
   ]
  },
  {
   "cell_type": "code",
   "execution_count": 47,
   "metadata": {
    "collapsed": false
   },
   "outputs": [
    {
     "name": "stderr",
     "output_type": "stream",
     "text": [
      "/Users/sirishat/anaconda/lib/python2.7/site-packages/ipykernel/__main__.py:18: SettingWithCopyWarning: \n",
      "A value is trying to be set on a copy of a slice from a DataFrame.\n",
      "Try using .loc[row_indexer,col_indexer] = value instead\n",
      "\n",
      "See the caveats in the documentation: http://pandas.pydata.org/pandas-docs/stable/indexing.html#indexing-view-versus-copy\n",
      "/Users/sirishat/anaconda/lib/python2.7/site-packages/ipykernel/__main__.py:19: SettingWithCopyWarning: \n",
      "A value is trying to be set on a copy of a slice from a DataFrame.\n",
      "Try using .loc[row_indexer,col_indexer] = value instead\n",
      "\n",
      "See the caveats in the documentation: http://pandas.pydata.org/pandas-docs/stable/indexing.html#indexing-view-versus-copy\n",
      "/Users/sirishat/anaconda/lib/python2.7/site-packages/ipykernel/__main__.py:20: SettingWithCopyWarning: \n",
      "A value is trying to be set on a copy of a slice from a DataFrame.\n",
      "Try using .loc[row_indexer,col_indexer] = value instead\n",
      "\n",
      "See the caveats in the documentation: http://pandas.pydata.org/pandas-docs/stable/indexing.html#indexing-view-versus-copy\n"
     ]
    },
    {
     "data": {
      "text/html": [
       "<div>\n",
       "<style scoped>\n",
       "    .dataframe tbody tr th:only-of-type {\n",
       "        vertical-align: middle;\n",
       "    }\n",
       "\n",
       "    .dataframe tbody tr th {\n",
       "        vertical-align: top;\n",
       "    }\n",
       "\n",
       "    .dataframe thead th {\n",
       "        text-align: right;\n",
       "    }\n",
       "</style>\n",
       "<table border=\"1\" class=\"dataframe\">\n",
       "  <thead>\n",
       "    <tr style=\"text-align: right;\">\n",
       "      <th></th>\n",
       "      <th>track_name</th>\n",
       "      <th>user_rating</th>\n",
       "      <th>rating_count_tot</th>\n",
       "      <th>score</th>\n",
       "    </tr>\n",
       "  </thead>\n",
       "  <tbody>\n",
       "    <tr>\n",
       "      <th>275</th>\n",
       "      <td>Angry Birds</td>\n",
       "      <td>4</td>\n",
       "      <td>824451</td>\n",
       "      <td>3.997272</td>\n",
       "    </tr>\n",
       "    <tr>\n",
       "      <th>368</th>\n",
       "      <td>Angry Birds HD</td>\n",
       "      <td>4</td>\n",
       "      <td>89110</td>\n",
       "      <td>3.975905</td>\n",
       "    </tr>\n",
       "    <tr>\n",
       "      <th>2559</th>\n",
       "      <td>Score! Hero</td>\n",
       "      <td>4</td>\n",
       "      <td>85395</td>\n",
       "      <td>3.974912</td>\n",
       "    </tr>\n",
       "    <tr>\n",
       "      <th>3950</th>\n",
       "      <td>Dream League Soccer 2017</td>\n",
       "      <td>4</td>\n",
       "      <td>66004</td>\n",
       "      <td>3.968039</td>\n",
       "    </tr>\n",
       "    <tr>\n",
       "      <th>2501</th>\n",
       "      <td>Soccer Stars™</td>\n",
       "      <td>4</td>\n",
       "      <td>43216</td>\n",
       "      <td>3.952866</td>\n",
       "    </tr>\n",
       "    <tr>\n",
       "      <th>3561</th>\n",
       "      <td>Head Basketball</td>\n",
       "      <td>4</td>\n",
       "      <td>18037</td>\n",
       "      <td>3.900858</td>\n",
       "    </tr>\n",
       "    <tr>\n",
       "      <th>937</th>\n",
       "      <td>Top Eleven 2017 - Be a Soccer Manager</td>\n",
       "      <td>4</td>\n",
       "      <td>14104</td>\n",
       "      <td>3.880212</td>\n",
       "    </tr>\n",
       "    <tr>\n",
       "      <th>1123</th>\n",
       "      <td>Fresh Tracks Snowboarding</td>\n",
       "      <td>4</td>\n",
       "      <td>10107</td>\n",
       "      <td>3.848056</td>\n",
       "    </tr>\n",
       "    <tr>\n",
       "      <th>2746</th>\n",
       "      <td>Soccer Star 2016 World Legend</td>\n",
       "      <td>4</td>\n",
       "      <td>7765</td>\n",
       "      <td>3.819696</td>\n",
       "    </tr>\n",
       "    <tr>\n",
       "      <th>1203</th>\n",
       "      <td>CoPilot GPS – Car Navigation &amp; Offline Maps</td>\n",
       "      <td>4</td>\n",
       "      <td>3582</td>\n",
       "      <td>3.729529</td>\n",
       "    </tr>\n",
       "  </tbody>\n",
       "</table>\n",
       "</div>"
      ],
      "text/plain": [
       "                                       track_name  user_rating  \\\n",
       "275                                   Angry Birds            4   \n",
       "368                                Angry Birds HD            4   \n",
       "2559                                  Score! Hero            4   \n",
       "3950                     Dream League Soccer 2017            4   \n",
       "2501                                Soccer Stars™            4   \n",
       "3561                              Head Basketball            4   \n",
       "937         Top Eleven 2017 - Be a Soccer Manager            4   \n",
       "1123                    Fresh Tracks Snowboarding            4   \n",
       "2746                Soccer Star 2016 World Legend            4   \n",
       "1203  CoPilot GPS – Car Navigation & Offline Maps            4   \n",
       "\n",
       "      rating_count_tot     score  \n",
       "275             824451  3.997272  \n",
       "368              89110  3.975905  \n",
       "2559             85395  3.974912  \n",
       "3950             66004  3.968039  \n",
       "2501             43216  3.952866  \n",
       "3561             18037  3.900858  \n",
       "937              14104  3.880212  \n",
       "1123             10107  3.848056  \n",
       "2746              7765  3.819696  \n",
       "1203              3582  3.729529  "
      ]
     },
     "execution_count": 47,
     "metadata": {},
     "output_type": "execute_result"
    }
   ],
   "source": [
    "improved_recommendations('Head Soccer')"
   ]
  },
  {
   "cell_type": "code",
   "execution_count": null,
   "metadata": {
    "collapsed": true
   },
   "outputs": [],
   "source": []
  }
 ],
 "metadata": {
  "kernelspec": {
   "display_name": "Python [default]",
   "language": "python",
   "name": "python2"
  },
  "language_info": {
   "codemirror_mode": {
    "name": "ipython",
    "version": 2
   },
   "file_extension": ".py",
   "mimetype": "text/x-python",
   "name": "python",
   "nbconvert_exporter": "python",
   "pygments_lexer": "ipython2",
   "version": "2.7.12"
  }
 },
 "nbformat": 4,
 "nbformat_minor": 1
}
