{
 "cells": [
  {
   "cell_type": "markdown",
   "metadata": {},
   "source": [
    "The aim here is to predict rating for apps. In the first part, we are trying to train our model to predict rating for the apps which are paid apps and calculate the error rate for our trained model.\n",
    "In the second part, we are trying to predict rating for the apps with our trained model for apps which are free initially and then are made paid. So, we are checking whether it's popularity remains the same.\n",
    "\n",
    "Input dataset : https://www.kaggle.com/ramamet4/app-store-apple-data-set-10k-apps#AppleStore.csv"
   ]
  },
  {
   "cell_type": "raw",
   "metadata": {},
   "source": [
    "# Training model with the paid apps data"
   ]
  },
  {
   "cell_type": "code",
   "execution_count": 1,
   "metadata": {},
   "outputs": [],
   "source": [
    "# Importing all necessary libraries\n",
    "\n",
    "import pandas as pd\n",
    "import numpy as np\n",
    "import matplotlib.pyplot as plt\n",
    "import scipy.stats as stats\n",
    "%matplotlib inline"
   ]
  },
  {
   "cell_type": "code",
   "execution_count": 2,
   "metadata": {},
   "outputs": [
    {
     "data": {
      "text/html": [
       "<div>\n",
       "<style scoped>\n",
       "    .dataframe tbody tr th:only-of-type {\n",
       "        vertical-align: middle;\n",
       "    }\n",
       "\n",
       "    .dataframe tbody tr th {\n",
       "        vertical-align: top;\n",
       "    }\n",
       "\n",
       "    .dataframe thead th {\n",
       "        text-align: right;\n",
       "    }\n",
       "</style>\n",
       "<table border=\"1\" class=\"dataframe\">\n",
       "  <thead>\n",
       "    <tr style=\"text-align: right;\">\n",
       "      <th></th>\n",
       "      <th>Unnamed: 0</th>\n",
       "      <th>id</th>\n",
       "      <th>track_name</th>\n",
       "      <th>size_bytes</th>\n",
       "      <th>currency</th>\n",
       "      <th>price</th>\n",
       "      <th>rating_count_tot</th>\n",
       "      <th>rating_count_ver</th>\n",
       "      <th>user_rating</th>\n",
       "      <th>user_rating_ver</th>\n",
       "      <th>ver</th>\n",
       "      <th>cont_rating</th>\n",
       "      <th>prime_genre</th>\n",
       "      <th>sup_devices.num</th>\n",
       "      <th>ipadSc_urls.num</th>\n",
       "      <th>lang.num</th>\n",
       "      <th>vpp_lic</th>\n",
       "    </tr>\n",
       "  </thead>\n",
       "  <tbody>\n",
       "    <tr>\n",
       "      <th>0</th>\n",
       "      <td>1</td>\n",
       "      <td>281656475</td>\n",
       "      <td>PAC-MAN Premium</td>\n",
       "      <td>100788224</td>\n",
       "      <td>USD</td>\n",
       "      <td>3.99</td>\n",
       "      <td>21292</td>\n",
       "      <td>26</td>\n",
       "      <td>4.0</td>\n",
       "      <td>4.5</td>\n",
       "      <td>6.3.5</td>\n",
       "      <td>4+</td>\n",
       "      <td>Games</td>\n",
       "      <td>38</td>\n",
       "      <td>5</td>\n",
       "      <td>10</td>\n",
       "      <td>1</td>\n",
       "    </tr>\n",
       "    <tr>\n",
       "      <th>1</th>\n",
       "      <td>2</td>\n",
       "      <td>281796108</td>\n",
       "      <td>Evernote - stay organized</td>\n",
       "      <td>158578688</td>\n",
       "      <td>USD</td>\n",
       "      <td>0.00</td>\n",
       "      <td>161065</td>\n",
       "      <td>26</td>\n",
       "      <td>4.0</td>\n",
       "      <td>3.5</td>\n",
       "      <td>8.2.2</td>\n",
       "      <td>4+</td>\n",
       "      <td>Productivity</td>\n",
       "      <td>37</td>\n",
       "      <td>5</td>\n",
       "      <td>23</td>\n",
       "      <td>1</td>\n",
       "    </tr>\n",
       "    <tr>\n",
       "      <th>2</th>\n",
       "      <td>3</td>\n",
       "      <td>281940292</td>\n",
       "      <td>WeatherBug - Local Weather, Radar, Maps, Alerts</td>\n",
       "      <td>100524032</td>\n",
       "      <td>USD</td>\n",
       "      <td>0.00</td>\n",
       "      <td>188583</td>\n",
       "      <td>2822</td>\n",
       "      <td>3.5</td>\n",
       "      <td>4.5</td>\n",
       "      <td>5.0.0</td>\n",
       "      <td>4+</td>\n",
       "      <td>Weather</td>\n",
       "      <td>37</td>\n",
       "      <td>5</td>\n",
       "      <td>3</td>\n",
       "      <td>1</td>\n",
       "    </tr>\n",
       "    <tr>\n",
       "      <th>3</th>\n",
       "      <td>4</td>\n",
       "      <td>282614216</td>\n",
       "      <td>eBay: Best App to Buy, Sell, Save! Online Shop...</td>\n",
       "      <td>128512000</td>\n",
       "      <td>USD</td>\n",
       "      <td>0.00</td>\n",
       "      <td>262241</td>\n",
       "      <td>649</td>\n",
       "      <td>4.0</td>\n",
       "      <td>4.5</td>\n",
       "      <td>5.10.0</td>\n",
       "      <td>12+</td>\n",
       "      <td>Shopping</td>\n",
       "      <td>37</td>\n",
       "      <td>5</td>\n",
       "      <td>9</td>\n",
       "      <td>1</td>\n",
       "    </tr>\n",
       "    <tr>\n",
       "      <th>4</th>\n",
       "      <td>5</td>\n",
       "      <td>282935706</td>\n",
       "      <td>Bible</td>\n",
       "      <td>92774400</td>\n",
       "      <td>USD</td>\n",
       "      <td>0.00</td>\n",
       "      <td>985920</td>\n",
       "      <td>5320</td>\n",
       "      <td>4.5</td>\n",
       "      <td>5.0</td>\n",
       "      <td>7.5.1</td>\n",
       "      <td>4+</td>\n",
       "      <td>Reference</td>\n",
       "      <td>37</td>\n",
       "      <td>5</td>\n",
       "      <td>45</td>\n",
       "      <td>1</td>\n",
       "    </tr>\n",
       "  </tbody>\n",
       "</table>\n",
       "</div>"
      ],
      "text/plain": [
       "   Unnamed: 0         id                                         track_name  \\\n",
       "0           1  281656475                                    PAC-MAN Premium   \n",
       "1           2  281796108                          Evernote - stay organized   \n",
       "2           3  281940292    WeatherBug - Local Weather, Radar, Maps, Alerts   \n",
       "3           4  282614216  eBay: Best App to Buy, Sell, Save! Online Shop...   \n",
       "4           5  282935706                                              Bible   \n",
       "\n",
       "   size_bytes currency  price  rating_count_tot  rating_count_ver  \\\n",
       "0   100788224      USD   3.99             21292                26   \n",
       "1   158578688      USD   0.00            161065                26   \n",
       "2   100524032      USD   0.00            188583              2822   \n",
       "3   128512000      USD   0.00            262241               649   \n",
       "4    92774400      USD   0.00            985920              5320   \n",
       "\n",
       "   user_rating  user_rating_ver     ver cont_rating   prime_genre  \\\n",
       "0          4.0              4.5   6.3.5          4+         Games   \n",
       "1          4.0              3.5   8.2.2          4+  Productivity   \n",
       "2          3.5              4.5   5.0.0          4+       Weather   \n",
       "3          4.0              4.5  5.10.0         12+      Shopping   \n",
       "4          4.5              5.0   7.5.1          4+     Reference   \n",
       "\n",
       "   sup_devices.num  ipadSc_urls.num  lang.num  vpp_lic  \n",
       "0               38                5        10        1  \n",
       "1               37                5        23        1  \n",
       "2               37                5         3        1  \n",
       "3               37                5         9        1  \n",
       "4               37                5        45        1  "
      ]
     },
     "execution_count": 2,
     "metadata": {},
     "output_type": "execute_result"
    }
   ],
   "source": [
    "#Reading file for ios apps from AppleStore dataset\n",
    "\n",
    "Path = r'C:\\Users\\Dhwani\\Desktop\\AppoMania\\AppleStore.csv'\n",
    "appleStoreDf = pd.read_csv(Path,parse_dates=True)\n",
    "appleStoreDf.head()"
   ]
  },
  {
   "cell_type": "code",
   "execution_count": 3,
   "metadata": {},
   "outputs": [
    {
     "data": {
      "text/plain": [
       "Unnamed: 0            int64\n",
       "id                    int64\n",
       "track_name           object\n",
       "size_bytes            int64\n",
       "currency             object\n",
       "price               float64\n",
       "rating_count_tot      int64\n",
       "rating_count_ver      int64\n",
       "user_rating         float64\n",
       "user_rating_ver     float64\n",
       "ver                  object\n",
       "cont_rating          object\n",
       "prime_genre          object\n",
       "sup_devices.num       int64\n",
       "ipadSc_urls.num       int64\n",
       "lang.num              int64\n",
       "vpp_lic               int64\n",
       "dtype: object"
      ]
     },
     "execution_count": 3,
     "metadata": {},
     "output_type": "execute_result"
    }
   ],
   "source": [
    "appleStoreDf.dtypes"
   ]
  },
  {
   "cell_type": "code",
   "execution_count": 4,
   "metadata": {},
   "outputs": [
    {
     "data": {
      "text/plain": [
       "Unnamed: 0          0\n",
       "id                  0\n",
       "track_name          0\n",
       "size_bytes          0\n",
       "currency            0\n",
       "price               0\n",
       "rating_count_tot    0\n",
       "rating_count_ver    0\n",
       "user_rating         0\n",
       "user_rating_ver     0\n",
       "ver                 0\n",
       "cont_rating         0\n",
       "prime_genre         0\n",
       "sup_devices.num     0\n",
       "ipadSc_urls.num     0\n",
       "lang.num            0\n",
       "vpp_lic             0\n",
       "dtype: int64"
      ]
     },
     "execution_count": 4,
     "metadata": {},
     "output_type": "execute_result"
    }
   ],
   "source": [
    "#checking for null values\n",
    "\n",
    "appleStoreDf.isna().sum()"
   ]
  },
  {
   "cell_type": "code",
   "execution_count": 5,
   "metadata": {},
   "outputs": [],
   "source": [
    "appleStoreDf['previous_rating_count'] = appleStoreDf['rating_count_tot'] - appleStoreDf['rating_count_ver']"
   ]
  },
  {
   "cell_type": "code",
   "execution_count": 6,
   "metadata": {},
   "outputs": [],
   "source": [
    "appleStoreDf['size_bytes_in_MB'] = appleStoreDf['size_bytes'] / (1024 * 1024.0)"
   ]
  },
  {
   "cell_type": "code",
   "execution_count": 7,
   "metadata": {},
   "outputs": [],
   "source": [
    "appleStoreDf['isNotFree'] = appleStoreDf['price'].apply(lambda x: 1 if x > 0 else 0)"
   ]
  },
  {
   "cell_type": "code",
   "execution_count": 8,
   "metadata": {},
   "outputs": [],
   "source": [
    "# Taking features which are required for rating prediction into a temporary dataset\n",
    "lmDf = appleStoreDf[['size_bytes_in_MB','previous_rating_count','isNotFree','sup_devices.num','ipadSc_urls.num','lang.num','vpp_lic',\n",
    "                     'user_rating','prime_genre','price']].copy()"
   ]
  },
  {
   "cell_type": "code",
   "execution_count": 9,
   "metadata": {},
   "outputs": [
    {
     "data": {
      "text/plain": [
       "size_bytes_in_MB         float64\n",
       "previous_rating_count      int64\n",
       "isNotFree                  int64\n",
       "sup_devices.num            int64\n",
       "ipadSc_urls.num            int64\n",
       "lang.num                   int64\n",
       "vpp_lic                    int64\n",
       "user_rating              float64\n",
       "prime_genre               object\n",
       "price                    float64\n",
       "dtype: object"
      ]
     },
     "execution_count": 9,
     "metadata": {},
     "output_type": "execute_result"
    }
   ],
   "source": [
    "lmDf.dtypes"
   ]
  },
  {
   "cell_type": "code",
   "execution_count": 10,
   "metadata": {},
   "outputs": [
    {
     "data": {
      "text/plain": [
       "size_bytes_in_MB         7197\n",
       "previous_rating_count    7197\n",
       "isNotFree                7197\n",
       "sup_devices.num          7197\n",
       "ipadSc_urls.num          7197\n",
       "lang.num                 7197\n",
       "vpp_lic                  7197\n",
       "user_rating              7197\n",
       "prime_genre              7197\n",
       "price                    7197\n",
       "dtype: int64"
      ]
     },
     "execution_count": 10,
     "metadata": {},
     "output_type": "execute_result"
    }
   ],
   "source": [
    "lmDf.count()"
   ]
  },
  {
   "cell_type": "code",
   "execution_count": 11,
   "metadata": {},
   "outputs": [
    {
     "data": {
      "text/plain": [
       "size_bytes_in_MB         2885\n",
       "previous_rating_count    2885\n",
       "isNotFree                2885\n",
       "sup_devices.num          2885\n",
       "ipadSc_urls.num          2885\n",
       "lang.num                 2885\n",
       "vpp_lic                  2885\n",
       "user_rating              2885\n",
       "prime_genre              2885\n",
       "price                    2885\n",
       "dtype: int64"
      ]
     },
     "execution_count": 11,
     "metadata": {},
     "output_type": "execute_result"
    }
   ],
   "source": [
    "# Taking data where Price > 0 and rating > 0\n",
    "#user_rating is average of all ratings of previous versions\n",
    "\n",
    "lmDf = lmDf[(lmDf.price != 0) & (lmDf.user_rating != 0.0)]\n",
    "lmDf.count()"
   ]
  },
  {
   "cell_type": "code",
   "execution_count": 12,
   "metadata": {},
   "outputs": [
    {
     "data": {
      "text/html": [
       "<div>\n",
       "<style scoped>\n",
       "    .dataframe tbody tr th:only-of-type {\n",
       "        vertical-align: middle;\n",
       "    }\n",
       "\n",
       "    .dataframe tbody tr th {\n",
       "        vertical-align: top;\n",
       "    }\n",
       "\n",
       "    .dataframe thead th {\n",
       "        text-align: right;\n",
       "    }\n",
       "</style>\n",
       "<table border=\"1\" class=\"dataframe\">\n",
       "  <thead>\n",
       "    <tr style=\"text-align: right;\">\n",
       "      <th></th>\n",
       "      <th>size_bytes_in_MB</th>\n",
       "      <th>previous_rating_count</th>\n",
       "      <th>isNotFree</th>\n",
       "      <th>sup_devices.num</th>\n",
       "      <th>ipadSc_urls.num</th>\n",
       "      <th>lang.num</th>\n",
       "      <th>vpp_lic</th>\n",
       "      <th>user_rating</th>\n",
       "      <th>price</th>\n",
       "    </tr>\n",
       "  </thead>\n",
       "  <tbody>\n",
       "    <tr>\n",
       "      <th>count</th>\n",
       "      <td>2885.000000</td>\n",
       "      <td>2885.000000</td>\n",
       "      <td>2885.0</td>\n",
       "      <td>2885.000000</td>\n",
       "      <td>2885.000000</td>\n",
       "      <td>2885.000000</td>\n",
       "      <td>2885.000000</td>\n",
       "      <td>2885.000000</td>\n",
       "      <td>2885.000000</td>\n",
       "    </tr>\n",
       "    <tr>\n",
       "      <th>mean</th>\n",
       "      <td>249.251070</td>\n",
       "      <td>4048.951127</td>\n",
       "      <td>1.0</td>\n",
       "      <td>37.224610</td>\n",
       "      <td>3.924437</td>\n",
       "      <td>5.303986</td>\n",
       "      <td>0.994454</td>\n",
       "      <td>4.051127</td>\n",
       "      <td>3.958458</td>\n",
       "    </tr>\n",
       "    <tr>\n",
       "      <th>std</th>\n",
       "      <td>439.529935</td>\n",
       "      <td>25829.524812</td>\n",
       "      <td>0.0</td>\n",
       "      <td>4.654068</td>\n",
       "      <td>1.854777</td>\n",
       "      <td>7.229553</td>\n",
       "      <td>0.074277</td>\n",
       "      <td>0.731145</td>\n",
       "      <td>8.552687</td>\n",
       "    </tr>\n",
       "    <tr>\n",
       "      <th>min</th>\n",
       "      <td>0.562500</td>\n",
       "      <td>0.000000</td>\n",
       "      <td>1.0</td>\n",
       "      <td>11.000000</td>\n",
       "      <td>0.000000</td>\n",
       "      <td>0.000000</td>\n",
       "      <td>0.000000</td>\n",
       "      <td>1.000000</td>\n",
       "      <td>0.990000</td>\n",
       "    </tr>\n",
       "    <tr>\n",
       "      <th>25%</th>\n",
       "      <td>35.436523</td>\n",
       "      <td>18.000000</td>\n",
       "      <td>1.0</td>\n",
       "      <td>37.000000</td>\n",
       "      <td>4.000000</td>\n",
       "      <td>1.000000</td>\n",
       "      <td>1.000000</td>\n",
       "      <td>4.000000</td>\n",
       "      <td>1.990000</td>\n",
       "    </tr>\n",
       "    <tr>\n",
       "      <th>50%</th>\n",
       "      <td>88.152344</td>\n",
       "      <td>149.000000</td>\n",
       "      <td>1.0</td>\n",
       "      <td>37.000000</td>\n",
       "      <td>5.000000</td>\n",
       "      <td>1.000000</td>\n",
       "      <td>1.000000</td>\n",
       "      <td>4.000000</td>\n",
       "      <td>2.990000</td>\n",
       "    </tr>\n",
       "    <tr>\n",
       "      <th>75%</th>\n",
       "      <td>224.845703</td>\n",
       "      <td>1257.000000</td>\n",
       "      <td>1.0</td>\n",
       "      <td>40.000000</td>\n",
       "      <td>5.000000</td>\n",
       "      <td>8.000000</td>\n",
       "      <td>1.000000</td>\n",
       "      <td>4.500000</td>\n",
       "      <td>4.990000</td>\n",
       "    </tr>\n",
       "    <tr>\n",
       "      <th>max</th>\n",
       "      <td>3839.463867</td>\n",
       "      <td>698384.000000</td>\n",
       "      <td>1.0</td>\n",
       "      <td>47.000000</td>\n",
       "      <td>5.000000</td>\n",
       "      <td>58.000000</td>\n",
       "      <td>1.000000</td>\n",
       "      <td>5.000000</td>\n",
       "      <td>299.990000</td>\n",
       "    </tr>\n",
       "  </tbody>\n",
       "</table>\n",
       "</div>"
      ],
      "text/plain": [
       "       size_bytes_in_MB  previous_rating_count  isNotFree  sup_devices.num  \\\n",
       "count       2885.000000            2885.000000     2885.0      2885.000000   \n",
       "mean         249.251070            4048.951127        1.0        37.224610   \n",
       "std          439.529935           25829.524812        0.0         4.654068   \n",
       "min            0.562500               0.000000        1.0        11.000000   \n",
       "25%           35.436523              18.000000        1.0        37.000000   \n",
       "50%           88.152344             149.000000        1.0        37.000000   \n",
       "75%          224.845703            1257.000000        1.0        40.000000   \n",
       "max         3839.463867          698384.000000        1.0        47.000000   \n",
       "\n",
       "       ipadSc_urls.num     lang.num      vpp_lic  user_rating        price  \n",
       "count      2885.000000  2885.000000  2885.000000  2885.000000  2885.000000  \n",
       "mean          3.924437     5.303986     0.994454     4.051127     3.958458  \n",
       "std           1.854777     7.229553     0.074277     0.731145     8.552687  \n",
       "min           0.000000     0.000000     0.000000     1.000000     0.990000  \n",
       "25%           4.000000     1.000000     1.000000     4.000000     1.990000  \n",
       "50%           5.000000     1.000000     1.000000     4.000000     2.990000  \n",
       "75%           5.000000     8.000000     1.000000     4.500000     4.990000  \n",
       "max           5.000000    58.000000     1.000000     5.000000   299.990000  "
      ]
     },
     "execution_count": 12,
     "metadata": {},
     "output_type": "execute_result"
    }
   ],
   "source": [
    "lmDf.describe()"
   ]
  },
  {
   "cell_type": "code",
   "execution_count": 13,
   "metadata": {},
   "outputs": [
    {
     "data": {
      "text/html": [
       "<div>\n",
       "<style scoped>\n",
       "    .dataframe tbody tr th:only-of-type {\n",
       "        vertical-align: middle;\n",
       "    }\n",
       "\n",
       "    .dataframe tbody tr th {\n",
       "        vertical-align: top;\n",
       "    }\n",
       "\n",
       "    .dataframe thead th {\n",
       "        text-align: right;\n",
       "    }\n",
       "</style>\n",
       "<table border=\"1\" class=\"dataframe\">\n",
       "  <thead>\n",
       "    <tr style=\"text-align: right;\">\n",
       "      <th></th>\n",
       "      <th>size_bytes_in_MB</th>\n",
       "      <th>previous_rating_count</th>\n",
       "      <th>isNotFree</th>\n",
       "      <th>sup_devices.num</th>\n",
       "      <th>ipadSc_urls.num</th>\n",
       "      <th>lang.num</th>\n",
       "      <th>vpp_lic</th>\n",
       "      <th>prime_genre</th>\n",
       "      <th>price</th>\n",
       "    </tr>\n",
       "  </thead>\n",
       "  <tbody>\n",
       "    <tr>\n",
       "      <th>0</th>\n",
       "      <td>96.119141</td>\n",
       "      <td>21266</td>\n",
       "      <td>1</td>\n",
       "      <td>38</td>\n",
       "      <td>5</td>\n",
       "      <td>10</td>\n",
       "      <td>1</td>\n",
       "      <td>7</td>\n",
       "      <td>3.99</td>\n",
       "    </tr>\n",
       "    <tr>\n",
       "      <th>5</th>\n",
       "      <td>9.999955</td>\n",
       "      <td>2737</td>\n",
       "      <td>1</td>\n",
       "      <td>47</td>\n",
       "      <td>5</td>\n",
       "      <td>1</td>\n",
       "      <td>1</td>\n",
       "      <td>7</td>\n",
       "      <td>0.99</td>\n",
       "    </tr>\n",
       "    <tr>\n",
       "      <th>8</th>\n",
       "      <td>46.968750</td>\n",
       "      <td>1113</td>\n",
       "      <td>1</td>\n",
       "      <td>37</td>\n",
       "      <td>5</td>\n",
       "      <td>1</td>\n",
       "      <td>1</td>\n",
       "      <td>21</td>\n",
       "      <td>9.99</td>\n",
       "    </tr>\n",
       "    <tr>\n",
       "      <th>9</th>\n",
       "      <td>66.779297</td>\n",
       "      <td>7845</td>\n",
       "      <td>1</td>\n",
       "      <td>38</td>\n",
       "      <td>0</td>\n",
       "      <td>10</td>\n",
       "      <td>1</td>\n",
       "      <td>7</td>\n",
       "      <td>3.99</td>\n",
       "    </tr>\n",
       "    <tr>\n",
       "      <th>10</th>\n",
       "      <td>47.320312</td>\n",
       "      <td>72703</td>\n",
       "      <td>1</td>\n",
       "      <td>38</td>\n",
       "      <td>4</td>\n",
       "      <td>11</td>\n",
       "      <td>1</td>\n",
       "      <td>7</td>\n",
       "      <td>4.99</td>\n",
       "    </tr>\n",
       "  </tbody>\n",
       "</table>\n",
       "</div>"
      ],
      "text/plain": [
       "    size_bytes_in_MB  previous_rating_count  isNotFree  sup_devices.num  \\\n",
       "0          96.119141                  21266          1               38   \n",
       "5           9.999955                   2737          1               47   \n",
       "8          46.968750                   1113          1               37   \n",
       "9          66.779297                   7845          1               38   \n",
       "10         47.320312                  72703          1               38   \n",
       "\n",
       "    ipadSc_urls.num  lang.num  vpp_lic  prime_genre  price  \n",
       "0                 5        10        1            7   3.99  \n",
       "5                 5         1        1            7   0.99  \n",
       "8                 5         1        1           21   9.99  \n",
       "9                 0        10        1            7   3.99  \n",
       "10                4        11        1            7   4.99  "
      ]
     },
     "execution_count": 13,
     "metadata": {},
     "output_type": "execute_result"
    }
   ],
   "source": [
    "# Label encoding for prime_genre\n",
    "\n",
    "from sklearn.preprocessing import LabelEncoder\n",
    "obj = LabelEncoder()\n",
    "lmDf[\"prime_genre\"] = obj.fit_transform(lmDf[\"prime_genre\"].astype('object'))\n",
    "\n",
    "y = lmDf[['user_rating']].copy()\n",
    "X = lmDf.drop('user_rating',axis=1)\n",
    "\n",
    "X.head()"
   ]
  },
  {
   "cell_type": "code",
   "execution_count": 14,
   "metadata": {},
   "outputs": [
    {
     "data": {
      "text/plain": [
       "size_bytes_in_MB         2885\n",
       "previous_rating_count    2885\n",
       "isNotFree                2885\n",
       "sup_devices.num          2885\n",
       "ipadSc_urls.num          2885\n",
       "lang.num                 2885\n",
       "vpp_lic                  2885\n",
       "prime_genre              2885\n",
       "price                    2885\n",
       "dtype: int64"
      ]
     },
     "execution_count": 14,
     "metadata": {},
     "output_type": "execute_result"
    }
   ],
   "source": [
    "X.count()"
   ]
  },
  {
   "cell_type": "code",
   "execution_count": 15,
   "metadata": {},
   "outputs": [
    {
     "data": {
      "text/plain": [
       "size_bytes_in_MB         float64\n",
       "previous_rating_count      int64\n",
       "isNotFree                  int64\n",
       "sup_devices.num            int64\n",
       "ipadSc_urls.num            int64\n",
       "lang.num                   int64\n",
       "vpp_lic                    int64\n",
       "user_rating              float64\n",
       "prime_genre                int64\n",
       "price                    float64\n",
       "dtype: object"
      ]
     },
     "execution_count": 15,
     "metadata": {},
     "output_type": "execute_result"
    }
   ],
   "source": [
    "lmDf = pd.get_dummies(lmDf)\n",
    "lmDf.dtypes"
   ]
  },
  {
   "cell_type": "code",
   "execution_count": 16,
   "metadata": {},
   "outputs": [
    {
     "data": {
      "text/plain": [
       "LinearRegression(copy_X=True, fit_intercept=True, n_jobs=1, normalize=False)"
      ]
     },
     "execution_count": 16,
     "metadata": {},
     "output_type": "execute_result"
    }
   ],
   "source": [
    "#Spliting dataset into train and test data\n",
    "\n",
    "from sklearn.linear_model import LinearRegression\n",
    "from sklearn.model_selection import train_test_split\n",
    "\n",
    "X_train, X_test, Y_train, Y_test = train_test_split(X.values, y, random_state=1)\n",
    "\n",
    "lm = LinearRegression()\n",
    "lm.fit(X_train,Y_train)"
   ]
  },
  {
   "cell_type": "code",
   "execution_count": 17,
   "metadata": {},
   "outputs": [],
   "source": [
    "Predict_rating_train = lm.predict(X_train)\n",
    "Predict_rating_test = lm.predict(X_test)"
   ]
  },
  {
   "cell_type": "code",
   "execution_count": 18,
   "metadata": {},
   "outputs": [
    {
     "name": "stdout",
     "output_type": "stream",
     "text": [
      "0.53\n"
     ]
    }
   ],
   "source": [
    "# Calculating error rate\n",
    "\n",
    "ratingErrorTest = round(np.mean(np.subtract(Y_test.values,Predict_rating_test) ** 2),3)\n",
    "print(ratingErrorTest)"
   ]
  },
  {
   "cell_type": "code",
   "execution_count": 19,
   "metadata": {},
   "outputs": [
    {
     "name": "stdout",
     "output_type": "stream",
     "text": [
      "0.504\n"
     ]
    }
   ],
   "source": [
    "ratingErrorTrain = round(np.mean(np.subtract(Y_train.values,Predict_rating_train) ** 2),3)\n",
    "print(ratingErrorTrain)"
   ]
  },
  {
   "cell_type": "code",
   "execution_count": 20,
   "metadata": {},
   "outputs": [
    {
     "name": "stdout",
     "output_type": "stream",
     "text": [
      "0.03061638498342445\n"
     ]
    }
   ],
   "source": [
    "#Calculating prediction score\n",
    "\n",
    "print(lm.score(X_test,Y_test))"
   ]
  },
  {
   "cell_type": "code",
   "execution_count": 21,
   "metadata": {},
   "outputs": [
    {
     "name": "stdout",
     "output_type": "stream",
     "text": [
      "0.0500449535696339\n"
     ]
    }
   ],
   "source": [
    "print(lm.score(X_train,Y_train))"
   ]
  },
  {
   "cell_type": "code",
   "execution_count": 22,
   "metadata": {
    "scrolled": true
   },
   "outputs": [
    {
     "name": "stderr",
     "output_type": "stream",
     "text": [
      "C:\\Users\\Dhwani\\Anaconda3\\lib\\site-packages\\ipykernel_launcher.py:17: DataConversionWarning: A column-vector y was passed when a 1d array was expected. Please change the shape of y to (n_samples,), for example using ravel().\n"
     ]
    }
   ],
   "source": [
    "# Applying Random forest regression model\n",
    "\n",
    "from sklearn.ensemble import RandomForestRegressor\n",
    "from sklearn.metrics import accuracy_score\n",
    "from sklearn.multioutput import MultiOutputRegressor\n",
    "\n",
    "from sklearn.model_selection import cross_val_score, cross_validate\n",
    "\n",
    "max_depth = 20\n",
    "regr_multirf = MultiOutputRegressor(RandomForestRegressor(n_estimators=100,\n",
    "                                                          max_depth=max_depth,\n",
    "                                                          random_state=0))\n",
    "regr_multirf.fit(X_train, Y_train)\n",
    "\n",
    "regr_rf = RandomForestRegressor(n_estimators=100, max_depth=max_depth,\n",
    "                                random_state=2)\n",
    "regr_rf.fit(X_train, Y_train)\n",
    "\n",
    "# Predict on new data\n",
    "y_multirf = regr_multirf.predict(X_test)\n",
    "y_rf = regr_rf.predict(X_test)"
   ]
  },
  {
   "cell_type": "code",
   "execution_count": 23,
   "metadata": {},
   "outputs": [
    {
     "name": "stdout",
     "output_type": "stream",
     "text": [
      "[[3.91425945]\n",
      " [4.04735897]\n",
      " [3.845     ]\n",
      " [3.31388888]\n",
      " [4.31266391]\n",
      " [4.32      ]\n",
      " [3.27      ]\n",
      " [4.315     ]\n",
      " [3.8155    ]\n",
      " [4.24205882]\n",
      " [4.14624274]\n",
      " [4.04321429]\n",
      " [3.8       ]\n",
      " [3.735     ]\n",
      " [4.53178293]\n",
      " [4.21216667]\n",
      " [3.9       ]\n",
      " [4.155     ]\n",
      " [4.16136535]\n",
      " [3.81406114]\n",
      " [4.41500664]\n",
      " [4.16      ]\n",
      " [4.08352282]\n",
      " [4.21734878]\n",
      " [4.12      ]\n",
      " [4.48117147]\n",
      " [4.01242348]\n",
      " [4.23695631]\n",
      " [3.735     ]\n",
      " [4.34956769]\n",
      " [4.005     ]\n",
      " [3.36777778]\n",
      " [4.4288896 ]\n",
      " [3.82      ]\n",
      " [3.83      ]\n",
      " [4.3656159 ]\n",
      " [4.10972973]\n",
      " [3.315     ]\n",
      " [4.04002535]\n",
      " [4.25522436]\n",
      " [4.14953764]\n",
      " [4.32789617]\n",
      " [3.55825434]\n",
      " [4.06229829]\n",
      " [4.34990445]\n",
      " [3.89980042]\n",
      " [4.22539186]\n",
      " [3.625     ]\n",
      " [4.26700894]\n",
      " [4.16534383]\n",
      " [4.42      ]\n",
      " [4.17960854]\n",
      " [4.51242424]\n",
      " [3.31466667]\n",
      " [4.28      ]\n",
      " [4.08116658]\n",
      " [4.3       ]\n",
      " [4.43282753]\n",
      " [3.98469779]\n",
      " [3.77857282]\n",
      " [4.36190647]\n",
      " [4.435     ]\n",
      " [4.19081395]\n",
      " [4.21813571]\n",
      " [4.15      ]\n",
      " [3.725     ]\n",
      " [4.39210172]\n",
      " [4.26      ]\n",
      " [4.16321037]\n",
      " [4.10465188]\n",
      " [4.11594978]\n",
      " [4.54      ]\n",
      " [3.71061275]\n",
      " [4.33655713]\n",
      " [3.9674153 ]\n",
      " [4.63335932]\n",
      " [4.32266053]\n",
      " [4.33806306]\n",
      " [3.405     ]\n",
      " [4.30783849]\n",
      " [4.35718421]\n",
      " [4.29851397]\n",
      " [4.25965   ]\n",
      " [4.24035714]\n",
      " [3.4475    ]\n",
      " [3.88228384]\n",
      " [4.51457537]\n",
      " [4.10833333]\n",
      " [4.40624359]\n",
      " [4.3002883 ]\n",
      " [3.77230159]\n",
      " [4.30401611]\n",
      " [4.33820513]\n",
      " [4.3714108 ]\n",
      " [3.535     ]\n",
      " [3.99857143]\n",
      " [4.17462058]\n",
      " [4.20008687]\n",
      " [4.36262561]\n",
      " [4.22893739]\n",
      " [4.40885944]\n",
      " [4.015     ]\n",
      " [4.3199714 ]\n",
      " [4.31965   ]\n",
      " [4.41690733]\n",
      " [3.40006555]\n",
      " [4.31667967]\n",
      " [3.4125    ]\n",
      " [4.06573245]\n",
      " [4.12964286]\n",
      " [3.285     ]\n",
      " [4.22545   ]\n",
      " [4.38992537]\n",
      " [3.83625   ]\n",
      " [2.9205    ]\n",
      " [3.96911461]\n",
      " [4.09567484]\n",
      " [4.0713149 ]\n",
      " [4.29418616]\n",
      " [4.045     ]\n",
      " [4.37695188]\n",
      " [3.96959848]\n",
      " [3.93      ]\n",
      " [4.26148066]\n",
      " [4.4       ]\n",
      " [4.08      ]\n",
      " [3.97893667]\n",
      " [4.14606264]\n",
      " [4.26011329]\n",
      " [4.30655025]\n",
      " [3.93357143]\n",
      " [4.24794044]\n",
      " [4.20496807]\n",
      " [4.38688007]\n",
      " [4.305     ]\n",
      " [2.49      ]\n",
      " [4.34439399]\n",
      " [3.9502824 ]\n",
      " [3.775     ]\n",
      " [4.55151984]\n",
      " [2.46      ]\n",
      " [3.905     ]\n",
      " [4.20833333]\n",
      " [3.76      ]\n",
      " [4.28914005]\n",
      " [4.37449564]\n",
      " [3.39      ]\n",
      " [4.58760119]\n",
      " [3.49      ]\n",
      " [4.285     ]\n",
      " [4.02      ]\n",
      " [3.21      ]\n",
      " [4.04568455]\n",
      " [4.29869179]\n",
      " [3.6755    ]\n",
      " [4.47242424]\n",
      " [3.33      ]\n",
      " [4.13893401]\n",
      " [4.12052366]\n",
      " [3.95777213]\n",
      " [4.055     ]\n",
      " [3.96      ]\n",
      " [4.44438125]\n",
      " [4.27238725]\n",
      " [4.2212813 ]\n",
      " [3.92      ]\n",
      " [3.94343816]\n",
      " [4.27124842]\n",
      " [3.66      ]\n",
      " [4.15542544]\n",
      " [3.03      ]\n",
      " [3.95375   ]\n",
      " [4.07298208]\n",
      " [4.04330781]\n",
      " [4.22067212]\n",
      " [4.06089744]\n",
      " [4.53329035]\n",
      " [4.22550845]\n",
      " [3.62      ]\n",
      " [3.79688749]\n",
      " [3.65382768]\n",
      " [4.23431213]\n",
      " [3.73632768]\n",
      " [3.85703653]\n",
      " [3.45441667]\n",
      " [4.46369048]\n",
      " [4.07903216]\n",
      " [4.17      ]\n",
      " [4.06255825]\n",
      " [3.78      ]\n",
      " [4.36779591]\n",
      " [4.22857895]\n",
      " [4.31433058]\n",
      " [4.22088202]\n",
      " [4.31478381]\n",
      " [3.73357143]\n",
      " [4.33229337]\n",
      " [3.76632768]\n",
      " [3.96780488]\n",
      " [3.905     ]\n",
      " [4.33760783]\n",
      " [4.29377389]\n",
      " [4.125     ]\n",
      " [4.37974343]\n",
      " [3.57666667]\n",
      " [4.305     ]\n",
      " [2.43      ]\n",
      " [4.0545395 ]\n",
      " [4.24891549]\n",
      " [3.85744444]\n",
      " [3.84      ]\n",
      " [4.22784516]\n",
      " [4.43142857]\n",
      " [4.37600025]\n",
      " [3.285     ]\n",
      " [3.83477143]\n",
      " [4.34320231]\n",
      " [4.15650059]\n",
      " [3.87892857]\n",
      " [4.4324563 ]\n",
      " [4.0318741 ]\n",
      " [4.13042859]\n",
      " [3.62      ]\n",
      " [4.265     ]\n",
      " [4.20343879]\n",
      " [4.48309391]\n",
      " [4.09235332]\n",
      " [4.05626325]\n",
      " [4.31004511]\n",
      " [4.07544839]\n",
      " [4.42514951]\n",
      " [4.0189635 ]\n",
      " [4.36314622]\n",
      " [4.14404122]\n",
      " [4.01      ]\n",
      " [4.19513066]\n",
      " [4.32033106]\n",
      " [4.16191429]\n",
      " [4.225     ]\n",
      " [3.744375  ]\n",
      " [4.40749094]\n",
      " [3.85980749]\n",
      " [3.16      ]\n",
      " [4.21449614]\n",
      " [3.40663004]\n",
      " [4.32619325]\n",
      " [4.32219204]\n",
      " [4.28187895]\n",
      " [3.90269025]\n",
      " [4.217     ]\n",
      " [4.13462963]\n",
      " [4.36828064]\n",
      " [4.42515244]\n",
      " [3.76616667]\n",
      " [4.14852556]\n",
      " [4.29270014]\n",
      " [3.7105    ]\n",
      " [4.37141023]\n",
      " [4.24820137]\n",
      " [4.40118548]\n",
      " [4.31769569]\n",
      " [3.91838984]\n",
      " [4.30857674]\n",
      " [3.705     ]\n",
      " [3.695     ]\n",
      " [4.48508723]\n",
      " [3.85568666]\n",
      " [4.19773846]\n",
      " [4.06250461]\n",
      " [4.4592086 ]\n",
      " [4.39868853]\n",
      " [4.06077069]\n",
      " [4.29766037]\n",
      " [3.60631944]\n",
      " [4.23277495]\n",
      " [4.26482313]\n",
      " [4.11703045]\n",
      " [4.4125    ]\n",
      " [3.9314573 ]\n",
      " [4.34809391]\n",
      " [4.40328802]\n",
      " [3.88222222]\n",
      " [4.07598265]\n",
      " [3.555     ]\n",
      " [4.13406995]\n",
      " [3.405     ]\n",
      " [4.03278804]\n",
      " [3.97698125]\n",
      " [3.66572421]\n",
      " [3.85      ]\n",
      " [3.70362705]\n",
      " [4.30636368]\n",
      " [4.33544284]\n",
      " [4.31124376]\n",
      " [4.18388889]\n",
      " [4.24373377]\n",
      " [3.41416667]\n",
      " [3.905     ]\n",
      " [3.57      ]\n",
      " [3.74858251]\n",
      " [3.195     ]\n",
      " [4.1785472 ]\n",
      " [4.18411765]\n",
      " [3.02363636]\n",
      " [4.01237217]\n",
      " [3.856     ]\n",
      " [4.18816737]\n",
      " [4.26701763]\n",
      " [4.30792434]\n",
      " [3.78      ]\n",
      " [4.185     ]\n",
      " [3.75573245]\n",
      " [4.19911009]\n",
      " [4.32564396]\n",
      " [4.23448066]\n",
      " [4.275     ]\n",
      " [4.41492947]\n",
      " [4.25055771]\n",
      " [3.205     ]\n",
      " [4.24627378]\n",
      " [3.94674593]\n",
      " [3.711     ]\n",
      " [4.26525   ]\n",
      " [4.26299561]\n",
      " [4.45138141]\n",
      " [4.12258917]\n",
      " [3.485     ]\n",
      " [4.09686378]\n",
      " [3.96989186]\n",
      " [4.39337868]\n",
      " [3.99108375]\n",
      " [4.47780488]\n",
      " [4.22      ]\n",
      " [3.76802167]\n",
      " [3.30766667]\n",
      " [4.32738354]\n",
      " [4.27940977]\n",
      " [4.14909091]\n",
      " [3.78428886]\n",
      " [4.2646081 ]\n",
      " [4.39181877]\n",
      " [4.44549206]\n",
      " [3.745     ]\n",
      " [4.07833333]\n",
      " [3.45682738]\n",
      " [3.46383333]\n",
      " [3.73110661]\n",
      " [3.365     ]\n",
      " [4.0527451 ]\n",
      " [2.99      ]\n",
      " [4.34408088]\n",
      " [4.41673555]\n",
      " [3.675     ]\n",
      " [3.88436064]\n",
      " [4.39      ]\n",
      " [4.30736551]\n",
      " [4.2733579 ]\n",
      " [3.81      ]\n",
      " [4.23480769]\n",
      " [3.95      ]\n",
      " [4.42612185]\n",
      " [4.2836944 ]\n",
      " [3.685     ]\n",
      " [4.42109659]\n",
      " [4.27518873]\n",
      " [3.56      ]\n",
      " [3.66715278]\n",
      " [3.895     ]\n",
      " [3.92787918]\n",
      " [4.66225977]\n",
      " [3.41035897]\n",
      " [4.43965   ]\n",
      " [4.17251838]\n",
      " [4.51604167]\n",
      " [3.044375  ]\n",
      " [4.57492537]\n",
      " [3.83944444]\n",
      " [4.04754987]\n",
      " [4.18      ]\n",
      " [3.48      ]\n",
      " [4.3685647 ]\n",
      " [4.14629722]\n",
      " [4.32611576]\n",
      " [4.30976722]\n",
      " [3.71      ]\n",
      " [4.49583325]\n",
      " [3.535     ]\n",
      " [4.12434376]\n",
      " [3.87512328]\n",
      " [3.90380184]\n",
      " [4.3762    ]\n",
      " [4.05117516]\n",
      " [3.17      ]\n",
      " [2.81      ]\n",
      " [3.385     ]\n",
      " [2.775     ]\n",
      " [4.24379708]\n",
      " [4.31509342]\n",
      " [3.62      ]\n",
      " [4.24783002]\n",
      " [3.91853045]\n",
      " [4.2738983 ]\n",
      " [3.65359648]\n",
      " [4.10625712]\n",
      " [4.1905    ]\n",
      " [3.345     ]\n",
      " [4.46736308]\n",
      " [4.32116883]\n",
      " [4.33511628]\n",
      " [4.28390244]\n",
      " [4.09086393]\n",
      " [4.3934431 ]\n",
      " [4.42892537]\n",
      " [4.3       ]\n",
      " [4.26302657]\n",
      " [4.11110704]\n",
      " [4.28365252]\n",
      " [3.73777778]\n",
      " [4.35926062]\n",
      " [4.2319929 ]\n",
      " [3.82      ]\n",
      " [4.2313751 ]\n",
      " [4.16451613]\n",
      " [4.44666358]\n",
      " [3.70089515]\n",
      " [3.68      ]\n",
      " [3.6259991 ]\n",
      " [4.17827489]\n",
      " [3.76      ]\n",
      " [4.30753151]\n",
      " [3.75071429]\n",
      " [3.33512034]\n",
      " [4.05544684]\n",
      " [3.645     ]\n",
      " [4.19897436]\n",
      " [4.43899372]\n",
      " [3.89812239]\n",
      " [3.94894671]\n",
      " [3.97955185]\n",
      " [4.32945436]\n",
      " [4.21127032]\n",
      " [4.17787446]\n",
      " [4.64535789]\n",
      " [4.0832999 ]\n",
      " [3.86169336]\n",
      " [4.14091001]\n",
      " [4.0341565 ]\n",
      " [4.17584062]\n",
      " [4.23048659]\n",
      " [2.97      ]\n",
      " [3.12      ]\n",
      " [4.6274685 ]\n",
      " [4.35506647]\n",
      " [4.19036478]\n",
      " [3.40005157]\n",
      " [3.71      ]\n",
      " [4.27      ]\n",
      " [3.91927478]\n",
      " [3.78408088]\n",
      " [4.04513803]\n",
      " [3.85857143]\n",
      " [4.30344115]\n",
      " [4.025     ]\n",
      " [4.44142134]\n",
      " [3.63      ]\n",
      " [4.13085897]\n",
      " [3.24      ]\n",
      " [4.3665369 ]\n",
      " [4.11353828]\n",
      " [4.46979276]\n",
      " [3.945     ]\n",
      " [3.83570465]\n",
      " [4.3727134 ]\n",
      " [4.23375   ]\n",
      " [4.35733903]\n",
      " [4.17611529]\n",
      " [3.995     ]\n",
      " [4.31132775]\n",
      " [3.67507406]\n",
      " [3.87985332]\n",
      " [4.3882115 ]\n",
      " [4.22760987]\n",
      " [4.2350906 ]\n",
      " [3.93537977]\n",
      " [4.12400687]\n",
      " [4.2227488 ]\n",
      " [3.55131944]\n",
      " [3.975     ]\n",
      " [4.22985866]\n",
      " [4.18313518]\n",
      " [4.28323312]\n",
      " [4.18219122]\n",
      " [4.26412791]\n",
      " [3.985     ]\n",
      " [4.15796208]\n",
      " [4.39189078]\n",
      " [2.495     ]\n",
      " [4.26421138]\n",
      " [4.16139801]\n",
      " [4.09084249]\n",
      " [3.805     ]\n",
      " [3.835     ]\n",
      " [4.26367266]\n",
      " [4.27997201]\n",
      " [4.08019841]\n",
      " [4.40193337]\n",
      " [3.79225334]\n",
      " [4.28462963]\n",
      " [3.00357143]\n",
      " [4.07002535]\n",
      " [3.56912737]\n",
      " [4.34958392]\n",
      " [3.99      ]\n",
      " [3.61      ]\n",
      " [4.355     ]\n",
      " [4.31206299]\n",
      " [3.98      ]\n",
      " [4.12217715]\n",
      " [4.08357389]\n",
      " [4.36600057]\n",
      " [3.935     ]\n",
      " [3.791     ]\n",
      " [4.14604942]\n",
      " [4.17728229]\n",
      " [4.23694659]\n",
      " [4.2193202 ]\n",
      " [4.11790956]\n",
      " [4.08730769]\n",
      " [4.12446558]\n",
      " [3.29      ]\n",
      " [3.68357282]\n",
      " [4.31268571]\n",
      " [3.93525   ]\n",
      " [4.31412685]\n",
      " [4.42275623]\n",
      " [3.7175    ]\n",
      " [4.05392857]\n",
      " [4.26773737]\n",
      " [4.20471988]\n",
      " [4.18      ]\n",
      " [3.265     ]\n",
      " [4.00826977]\n",
      " [4.17      ]\n",
      " [4.42336551]\n",
      " [3.91155549]\n",
      " [4.39819762]\n",
      " [4.20569774]\n",
      " [4.19322228]\n",
      " [4.21826158]\n",
      " [3.90216667]\n",
      " [4.2884293 ]\n",
      " [3.47      ]\n",
      " [4.17806203]\n",
      " [3.865     ]\n",
      " [3.69685072]\n",
      " [3.75371757]\n",
      " [4.1       ]\n",
      " [4.48773025]\n",
      " [4.25281383]\n",
      " [4.24464376]\n",
      " [4.28516259]\n",
      " [3.545     ]\n",
      " [3.83357143]\n",
      " [4.31759554]\n",
      " [3.92522672]\n",
      " [3.73      ]\n",
      " [4.16944397]\n",
      " [4.40992537]\n",
      " [3.94335625]\n",
      " [3.065     ]\n",
      " [3.90685805]\n",
      " [4.27523336]\n",
      " [4.3075    ]\n",
      " [4.24874274]\n",
      " [4.37101909]\n",
      " [3.565     ]\n",
      " [3.93997324]\n",
      " [3.25874603]\n",
      " [4.47054057]\n",
      " [3.94906578]\n",
      " [3.90047947]\n",
      " [3.735     ]\n",
      " [4.0532414 ]\n",
      " [4.31765088]\n",
      " [3.90739514]\n",
      " [4.04273231]\n",
      " [3.02      ]\n",
      " [3.87527562]\n",
      " [3.258     ]\n",
      " [4.36278517]\n",
      " [4.21782601]\n",
      " [3.055     ]\n",
      " [4.15578514]\n",
      " [4.21339605]\n",
      " [4.35763112]\n",
      " [4.16466102]\n",
      " [3.45935897]\n",
      " [4.25346108]\n",
      " [4.325     ]\n",
      " [4.28294444]\n",
      " [3.45942205]\n",
      " [3.975     ]\n",
      " [4.13692949]\n",
      " [4.16384649]\n",
      " [4.29166667]\n",
      " [4.14092683]\n",
      " [4.48968592]\n",
      " [4.19472973]\n",
      " [4.18442969]\n",
      " [3.89888889]\n",
      " [4.20199682]\n",
      " [4.00590418]\n",
      " [3.74      ]\n",
      " [4.065     ]\n",
      " [3.825     ]\n",
      " [4.37144957]\n",
      " [3.61080237]\n",
      " [4.295     ]\n",
      " [3.66843879]\n",
      " [4.31196086]\n",
      " [3.315     ]\n",
      " [3.62124798]\n",
      " [4.09181876]\n",
      " [4.21625004]\n",
      " [3.90377364]\n",
      " [3.53      ]\n",
      " [4.08424637]\n",
      " [4.35242424]\n",
      " [3.91632768]\n",
      " [4.10531046]\n",
      " [3.82439966]\n",
      " [3.595     ]\n",
      " [3.65065721]\n",
      " [4.13351282]\n",
      " [4.33858123]\n",
      " [3.95629722]\n",
      " [4.11234009]\n",
      " [3.45      ]\n",
      " [3.995     ]\n",
      " [4.11      ]\n",
      " [4.11230769]\n",
      " [3.47625   ]\n",
      " [4.515     ]\n",
      " [3.25277778]\n",
      " [3.8431713 ]\n",
      " [4.045     ]\n",
      " [4.17728156]\n",
      " [4.30719523]\n",
      " [3.705     ]\n",
      " [4.43513542]\n",
      " [3.92994712]\n",
      " [4.16095326]\n",
      " [3.97530385]\n",
      " [4.4370292 ]\n",
      " [4.38466704]\n",
      " [4.15728164]\n",
      " [3.75751979]\n",
      " [4.38459174]\n",
      " [4.10562041]\n",
      " [4.13049556]\n",
      " [3.43      ]\n",
      " [3.735     ]\n",
      " [3.90989806]\n",
      " [4.50829035]\n",
      " [4.08699145]\n",
      " [4.04496499]\n",
      " [4.18968975]\n",
      " [4.11250698]\n",
      " [3.6909623 ]\n",
      " [4.52367811]\n",
      " [4.17      ]\n",
      " [4.09165316]\n",
      " [4.2287011 ]\n",
      " [4.12732025]\n",
      " [3.265     ]\n",
      " [3.77292875]\n",
      " [4.08463706]\n",
      " [3.75583333]\n",
      " [3.81971989]\n",
      " [4.03377854]\n",
      " [3.91410121]\n",
      " [3.58392857]\n",
      " [4.40748608]\n",
      " [4.29505991]\n",
      " [4.015     ]\n",
      " [4.36949596]\n",
      " [4.24651316]\n",
      " [3.93946429]\n",
      " [3.92702743]\n",
      " [4.0523149 ]\n",
      " [3.91      ]\n",
      " [4.31280488]\n",
      " [4.31345225]\n",
      " [4.15284807]\n",
      " [4.01745421]\n",
      " [3.54      ]\n",
      " [4.31438344]\n",
      " [4.09      ]\n",
      " [4.19341667]\n",
      " [3.8       ]\n",
      " [4.38127101]\n",
      " [3.84022138]\n",
      " [3.645     ]\n",
      " [4.15812644]\n",
      " [3.535     ]\n",
      " [4.04      ]\n",
      " [4.32284635]\n",
      " [4.165     ]\n",
      " [4.19512058]\n",
      " [4.21      ]\n",
      " [4.18811651]\n",
      " [4.05465   ]\n",
      " [3.66597054]\n",
      " [4.39634352]\n",
      " [2.45857143]\n",
      " [3.71676726]\n",
      " [3.96357143]\n",
      " [4.55435821]\n",
      " [4.17216231]\n",
      " [3.85757353]\n",
      " [4.40068956]\n",
      " [3.79816321]]\n"
     ]
    }
   ],
   "source": [
    "print(y_multirf)"
   ]
  },
  {
   "cell_type": "markdown",
   "metadata": {},
   "source": [
    "# Let's test our trained model with the ratings of apps which are free for now"
   ]
  },
  {
   "cell_type": "code",
   "execution_count": 24,
   "metadata": {},
   "outputs": [
    {
     "data": {
      "text/html": [
       "<div>\n",
       "<style scoped>\n",
       "    .dataframe tbody tr th:only-of-type {\n",
       "        vertical-align: middle;\n",
       "    }\n",
       "\n",
       "    .dataframe tbody tr th {\n",
       "        vertical-align: top;\n",
       "    }\n",
       "\n",
       "    .dataframe thead th {\n",
       "        text-align: right;\n",
       "    }\n",
       "</style>\n",
       "<table border=\"1\" class=\"dataframe\">\n",
       "  <thead>\n",
       "    <tr style=\"text-align: right;\">\n",
       "      <th></th>\n",
       "      <th>predicted_price</th>\n",
       "    </tr>\n",
       "  </thead>\n",
       "  <tbody>\n",
       "    <tr>\n",
       "      <th>0</th>\n",
       "      <td>3</td>\n",
       "    </tr>\n",
       "    <tr>\n",
       "      <th>1</th>\n",
       "      <td>2</td>\n",
       "    </tr>\n",
       "    <tr>\n",
       "      <th>2</th>\n",
       "      <td>1</td>\n",
       "    </tr>\n",
       "    <tr>\n",
       "      <th>3</th>\n",
       "      <td>0</td>\n",
       "    </tr>\n",
       "    <tr>\n",
       "      <th>4</th>\n",
       "      <td>3</td>\n",
       "    </tr>\n",
       "  </tbody>\n",
       "</table>\n",
       "</div>"
      ],
      "text/plain": [
       "   predicted_price\n",
       "0                3\n",
       "1                2\n",
       "2                1\n",
       "3                0\n",
       "4                3"
      ]
     },
     "execution_count": 24,
     "metadata": {},
     "output_type": "execute_result"
    }
   ],
   "source": [
    "#Reading file for price prediction\n",
    "\n",
    "Path = r'C:\\Users\\Dhwani\\Desktop\\AppoMania\\price_prediction_apple.csv'\n",
    "pricePrediction = pd.read_csv(Path,parse_dates=True)\n",
    "pricePrediction.head()"
   ]
  },
  {
   "cell_type": "code",
   "execution_count": 25,
   "metadata": {},
   "outputs": [
    {
     "data": {
      "text/plain": [
       "predicted_price    0\n",
       "dtype: int64"
      ]
     },
     "execution_count": 25,
     "metadata": {},
     "output_type": "execute_result"
    }
   ],
   "source": [
    "pricePrediction.isna().sum()"
   ]
  },
  {
   "cell_type": "code",
   "execution_count": 26,
   "metadata": {},
   "outputs": [
    {
     "data": {
      "text/plain": [
       "predicted_price    3383\n",
       "dtype: int64"
      ]
     },
     "execution_count": 26,
     "metadata": {},
     "output_type": "execute_result"
    }
   ],
   "source": [
    "pricePrediction.count()"
   ]
  },
  {
   "cell_type": "code",
   "execution_count": 27,
   "metadata": {},
   "outputs": [],
   "source": [
    "# Let's take rating for free apps\n",
    "\n",
    "yFreeAppsRating = appleStoreDf['user_rating'][(appleStoreDf.price == 0) & (appleStoreDf.user_rating != 0)]"
   ]
  },
  {
   "cell_type": "code",
   "execution_count": 28,
   "metadata": {},
   "outputs": [
    {
     "data": {
      "text/html": [
       "<div>\n",
       "<style scoped>\n",
       "    .dataframe tbody tr th:only-of-type {\n",
       "        vertical-align: middle;\n",
       "    }\n",
       "\n",
       "    .dataframe tbody tr th {\n",
       "        vertical-align: top;\n",
       "    }\n",
       "\n",
       "    .dataframe thead th {\n",
       "        text-align: right;\n",
       "    }\n",
       "</style>\n",
       "<table border=\"1\" class=\"dataframe\">\n",
       "  <thead>\n",
       "    <tr style=\"text-align: right;\">\n",
       "      <th></th>\n",
       "      <th>user_rating</th>\n",
       "      <th>rating_count_tot</th>\n",
       "      <th>prime_genre</th>\n",
       "      <th>cont_rating</th>\n",
       "    </tr>\n",
       "  </thead>\n",
       "  <tbody>\n",
       "    <tr>\n",
       "      <th>1</th>\n",
       "      <td>4.0</td>\n",
       "      <td>161065</td>\n",
       "      <td>15</td>\n",
       "      <td>4</td>\n",
       "    </tr>\n",
       "    <tr>\n",
       "      <th>2</th>\n",
       "      <td>3.5</td>\n",
       "      <td>188583</td>\n",
       "      <td>22</td>\n",
       "      <td>4</td>\n",
       "    </tr>\n",
       "    <tr>\n",
       "      <th>3</th>\n",
       "      <td>4.0</td>\n",
       "      <td>262241</td>\n",
       "      <td>17</td>\n",
       "      <td>12</td>\n",
       "    </tr>\n",
       "    <tr>\n",
       "      <th>4</th>\n",
       "      <td>4.5</td>\n",
       "      <td>985920</td>\n",
       "      <td>16</td>\n",
       "      <td>4</td>\n",
       "    </tr>\n",
       "    <tr>\n",
       "      <th>6</th>\n",
       "      <td>4.0</td>\n",
       "      <td>119487</td>\n",
       "      <td>5</td>\n",
       "      <td>4</td>\n",
       "    </tr>\n",
       "  </tbody>\n",
       "</table>\n",
       "</div>"
      ],
      "text/plain": [
       "   user_rating  rating_count_tot  prime_genre  cont_rating\n",
       "1          4.0            161065           15            4\n",
       "2          3.5            188583           22            4\n",
       "3          4.0            262241           17           12\n",
       "4          4.5            985920           16            4\n",
       "6          4.0            119487            5            4"
      ]
     },
     "execution_count": 28,
     "metadata": {},
     "output_type": "execute_result"
    }
   ],
   "source": [
    "# Let's take features of the free apps\n",
    "\n",
    "XFreeAppsFeatures = appleStoreDf[['user_rating','rating_count_tot','prime_genre','cont_rating']].copy()\n",
    "XFreeAppsFeatures = XFreeAppsFeatures[(appleStoreDf.price == 0) & (appleStoreDf.user_rating != 0)]\n",
    "\n",
    "XFreeAppsFeatures['cont_rating'] = XFreeAppsFeatures['cont_rating'].astype('object').str.replace('+', '')\n",
    "XFreeAppsFeatures['cont_rating'] = pd.to_numeric(XFreeAppsFeatures['cont_rating'])\n",
    "\n",
    "obj = LabelEncoder()\n",
    "XFreeAppsFeatures[\"prime_genre\"] = obj.fit_transform(XFreeAppsFeatures[\"prime_genre\"].astype('object'))\n",
    "XFreeAppsFeatures.head()"
   ]
  },
  {
   "cell_type": "code",
   "execution_count": 29,
   "metadata": {},
   "outputs": [
    {
     "data": {
      "text/plain": [
       "user_rating         3383\n",
       "rating_count_tot    3383\n",
       "prime_genre         3383\n",
       "cont_rating         3383\n",
       "dtype: int64"
      ]
     },
     "execution_count": 29,
     "metadata": {},
     "output_type": "execute_result"
    }
   ],
   "source": [
    "XFreeAppsFeatures.count()"
   ]
  },
  {
   "cell_type": "code",
   "execution_count": 30,
   "metadata": {},
   "outputs": [
    {
     "data": {
      "text/plain": [
       "user_rating         0\n",
       "rating_count_tot    0\n",
       "prime_genre         0\n",
       "cont_rating         0\n",
       "dtype: int64"
      ]
     },
     "execution_count": 30,
     "metadata": {},
     "output_type": "execute_result"
    }
   ],
   "source": [
    "XFreeAppsFeatures.isna().sum()"
   ]
  },
  {
   "cell_type": "code",
   "execution_count": 31,
   "metadata": {},
   "outputs": [],
   "source": [
    "# Feeding predicted price as input\n",
    "\n",
    "XFreeAppsFeatures.reset_index(inplace=True)\n",
    "XFreeAppsFeatures['predicted_price'] = pricePrediction.predicted_price"
   ]
  },
  {
   "cell_type": "code",
   "execution_count": 32,
   "metadata": {},
   "outputs": [
    {
     "data": {
      "text/plain": [
       "index               3383\n",
       "user_rating         3383\n",
       "rating_count_tot    3383\n",
       "prime_genre         3383\n",
       "cont_rating         3383\n",
       "predicted_price     3383\n",
       "dtype: int64"
      ]
     },
     "execution_count": 32,
     "metadata": {},
     "output_type": "execute_result"
    }
   ],
   "source": [
    "XFreeAppsFeatures.count()"
   ]
  },
  {
   "cell_type": "code",
   "execution_count": 33,
   "metadata": {},
   "outputs": [
    {
     "data": {
      "text/plain": [
       "index               0\n",
       "user_rating         0\n",
       "rating_count_tot    0\n",
       "prime_genre         0\n",
       "cont_rating         0\n",
       "predicted_price     0\n",
       "dtype: int64"
      ]
     },
     "execution_count": 33,
     "metadata": {},
     "output_type": "execute_result"
    }
   ],
   "source": [
    "XFreeAppsFeatures.isna().sum()"
   ]
  },
  {
   "cell_type": "code",
   "execution_count": 34,
   "metadata": {},
   "outputs": [],
   "source": [
    "XFreeAppsFeaturesTrain = XFreeAppsFeatures.drop(columns=['user_rating','index'])"
   ]
  },
  {
   "cell_type": "code",
   "execution_count": 35,
   "metadata": {},
   "outputs": [],
   "source": [
    "# Let's take features of paid apps\n",
    "\n",
    "XPaidAppsFeatures = appleStoreDf[['user_rating','rating_count_tot','prime_genre','cont_rating','price']].copy()\n",
    "XPaidAppsFeatures = XPaidAppsFeatures[(appleStoreDf.price != 0) & (appleStoreDf.user_rating != 0)]"
   ]
  },
  {
   "cell_type": "code",
   "execution_count": 36,
   "metadata": {},
   "outputs": [
    {
     "data": {
      "text/html": [
       "<div>\n",
       "<style scoped>\n",
       "    .dataframe tbody tr th:only-of-type {\n",
       "        vertical-align: middle;\n",
       "    }\n",
       "\n",
       "    .dataframe tbody tr th {\n",
       "        vertical-align: top;\n",
       "    }\n",
       "\n",
       "    .dataframe thead th {\n",
       "        text-align: right;\n",
       "    }\n",
       "</style>\n",
       "<table border=\"1\" class=\"dataframe\">\n",
       "  <thead>\n",
       "    <tr style=\"text-align: right;\">\n",
       "      <th></th>\n",
       "      <th>user_rating</th>\n",
       "      <th>rating_count_tot</th>\n",
       "      <th>prime_genre</th>\n",
       "      <th>cont_rating</th>\n",
       "      <th>price</th>\n",
       "    </tr>\n",
       "  </thead>\n",
       "  <tbody>\n",
       "    <tr>\n",
       "      <th>0</th>\n",
       "      <td>4.0</td>\n",
       "      <td>21292</td>\n",
       "      <td>Games</td>\n",
       "      <td>4+</td>\n",
       "      <td>3.99</td>\n",
       "    </tr>\n",
       "    <tr>\n",
       "      <th>5</th>\n",
       "      <td>4.0</td>\n",
       "      <td>8253</td>\n",
       "      <td>Games</td>\n",
       "      <td>4+</td>\n",
       "      <td>0.99</td>\n",
       "    </tr>\n",
       "    <tr>\n",
       "      <th>8</th>\n",
       "      <td>4.5</td>\n",
       "      <td>1117</td>\n",
       "      <td>Utilities</td>\n",
       "      <td>4+</td>\n",
       "      <td>9.99</td>\n",
       "    </tr>\n",
       "    <tr>\n",
       "      <th>9</th>\n",
       "      <td>4.0</td>\n",
       "      <td>7885</td>\n",
       "      <td>Games</td>\n",
       "      <td>4+</td>\n",
       "      <td>3.99</td>\n",
       "    </tr>\n",
       "    <tr>\n",
       "      <th>10</th>\n",
       "      <td>4.5</td>\n",
       "      <td>76720</td>\n",
       "      <td>Games</td>\n",
       "      <td>4+</td>\n",
       "      <td>4.99</td>\n",
       "    </tr>\n",
       "  </tbody>\n",
       "</table>\n",
       "</div>"
      ],
      "text/plain": [
       "    user_rating  rating_count_tot prime_genre cont_rating  price\n",
       "0           4.0             21292       Games          4+   3.99\n",
       "5           4.0              8253       Games          4+   0.99\n",
       "8           4.5              1117   Utilities          4+   9.99\n",
       "9           4.0              7885       Games          4+   3.99\n",
       "10          4.5             76720       Games          4+   4.99"
      ]
     },
     "execution_count": 36,
     "metadata": {},
     "output_type": "execute_result"
    }
   ],
   "source": [
    "XPaidAppsFeatures.head()"
   ]
  },
  {
   "cell_type": "code",
   "execution_count": 37,
   "metadata": {},
   "outputs": [
    {
     "data": {
      "text/html": [
       "<div>\n",
       "<style scoped>\n",
       "    .dataframe tbody tr th:only-of-type {\n",
       "        vertical-align: middle;\n",
       "    }\n",
       "\n",
       "    .dataframe tbody tr th {\n",
       "        vertical-align: top;\n",
       "    }\n",
       "\n",
       "    .dataframe thead th {\n",
       "        text-align: right;\n",
       "    }\n",
       "</style>\n",
       "<table border=\"1\" class=\"dataframe\">\n",
       "  <thead>\n",
       "    <tr style=\"text-align: right;\">\n",
       "      <th></th>\n",
       "      <th>user_rating</th>\n",
       "      <th>rating_count_tot</th>\n",
       "      <th>prime_genre</th>\n",
       "      <th>cont_rating</th>\n",
       "      <th>price</th>\n",
       "    </tr>\n",
       "  </thead>\n",
       "  <tbody>\n",
       "    <tr>\n",
       "      <th>0</th>\n",
       "      <td>4.0</td>\n",
       "      <td>21292</td>\n",
       "      <td>7</td>\n",
       "      <td>4</td>\n",
       "      <td>3.99</td>\n",
       "    </tr>\n",
       "    <tr>\n",
       "      <th>5</th>\n",
       "      <td>4.0</td>\n",
       "      <td>8253</td>\n",
       "      <td>7</td>\n",
       "      <td>4</td>\n",
       "      <td>0.99</td>\n",
       "    </tr>\n",
       "    <tr>\n",
       "      <th>8</th>\n",
       "      <td>4.5</td>\n",
       "      <td>1117</td>\n",
       "      <td>21</td>\n",
       "      <td>4</td>\n",
       "      <td>9.99</td>\n",
       "    </tr>\n",
       "    <tr>\n",
       "      <th>9</th>\n",
       "      <td>4.0</td>\n",
       "      <td>7885</td>\n",
       "      <td>7</td>\n",
       "      <td>4</td>\n",
       "      <td>3.99</td>\n",
       "    </tr>\n",
       "    <tr>\n",
       "      <th>10</th>\n",
       "      <td>4.5</td>\n",
       "      <td>76720</td>\n",
       "      <td>7</td>\n",
       "      <td>4</td>\n",
       "      <td>4.99</td>\n",
       "    </tr>\n",
       "  </tbody>\n",
       "</table>\n",
       "</div>"
      ],
      "text/plain": [
       "    user_rating  rating_count_tot  prime_genre  cont_rating  price\n",
       "0           4.0             21292            7            4   3.99\n",
       "5           4.0              8253            7            4   0.99\n",
       "8           4.5              1117           21            4   9.99\n",
       "9           4.0              7885            7            4   3.99\n",
       "10          4.5             76720            7            4   4.99"
      ]
     },
     "execution_count": 37,
     "metadata": {},
     "output_type": "execute_result"
    }
   ],
   "source": [
    "# Applying label encoding for prime_genre\n",
    "\n",
    "XPaidAppsFeatures['cont_rating'] = XPaidAppsFeatures['cont_rating'].astype('object').str.replace('+', '')\n",
    "XPaidAppsFeatures['cont_rating'] = pd.to_numeric(XPaidAppsFeatures['cont_rating'])\n",
    "\n",
    "obj = LabelEncoder()\n",
    "XPaidAppsFeatures[\"prime_genre\"] = obj.fit_transform(XPaidAppsFeatures[\"prime_genre\"].astype('object'))\n",
    "XPaidAppsFeatures.head()"
   ]
  },
  {
   "cell_type": "code",
   "execution_count": 38,
   "metadata": {},
   "outputs": [
    {
     "data": {
      "text/plain": [
       "user_rating         2885\n",
       "rating_count_tot    2885\n",
       "prime_genre         2885\n",
       "cont_rating         2885\n",
       "price               2885\n",
       "dtype: int64"
      ]
     },
     "execution_count": 38,
     "metadata": {},
     "output_type": "execute_result"
    }
   ],
   "source": [
    "XPaidAppsFeatures.count()"
   ]
  },
  {
   "cell_type": "code",
   "execution_count": 39,
   "metadata": {},
   "outputs": [
    {
     "data": {
      "text/plain": [
       "3383"
      ]
     },
     "execution_count": 39,
     "metadata": {},
     "output_type": "execute_result"
    }
   ],
   "source": [
    "yFreeAppsRating.count()"
   ]
  },
  {
   "cell_type": "code",
   "execution_count": 40,
   "metadata": {},
   "outputs": [
    {
     "data": {
      "text/plain": [
       "rating_count_tot    3383\n",
       "prime_genre         3383\n",
       "cont_rating         3383\n",
       "predicted_price     3383\n",
       "dtype: int64"
      ]
     },
     "execution_count": 40,
     "metadata": {},
     "output_type": "execute_result"
    }
   ],
   "source": [
    "XFreeAppsFeaturesTrain.count()"
   ]
  },
  {
   "cell_type": "code",
   "execution_count": 41,
   "metadata": {},
   "outputs": [],
   "source": [
    "XPaidAppsFeaturesTrain = XPaidAppsFeatures.drop(columns=['user_rating'])"
   ]
  },
  {
   "cell_type": "code",
   "execution_count": 42,
   "metadata": {},
   "outputs": [
    {
     "data": {
      "text/plain": [
       "LinearRegression(copy_X=True, fit_intercept=True, n_jobs=1, normalize=False)"
      ]
     },
     "execution_count": 42,
     "metadata": {},
     "output_type": "execute_result"
    }
   ],
   "source": [
    "# Training linear regression model with feature of paid apps\n",
    "\n",
    "lm.fit(XPaidAppsFeaturesTrain,XPaidAppsFeatures.user_rating)"
   ]
  },
  {
   "cell_type": "code",
   "execution_count": null,
   "metadata": {},
   "outputs": [],
   "source": []
  },
  {
   "cell_type": "code",
   "execution_count": 43,
   "metadata": {},
   "outputs": [
    {
     "data": {
      "text/plain": [
       "Text(0.5,0,'Prime genre')"
      ]
     },
     "execution_count": 43,
     "metadata": {},
     "output_type": "execute_result"
    },
    {
     "data": {
      "image/png": "[encoded data removed]",
      "text/plain": [
       "<Figure size 1080x720 with 2 Axes>"
      ]
     },
     "metadata": {},
     "output_type": "display_data"
    }
   ],
   "source": [
    "yrange = [0,15]\n",
    "fsize =15\n",
    "\n",
    "plt.figure(figsize=(15,10))\n",
    "\n",
    "plt.subplot(4,1,1)\n",
    "plt.xlim(yrange)\n",
    "plt.scatter(XFreeAppsFeatures.prime_genre,yFreeAppsRating,c='b',s=4,alpha=1)\n",
    "\n",
    "plt.title('Current vs predicted rating')\n",
    "plt.ylabel('Current rating')\n",
    "#plt.xlabel('actual rating')\n",
    "\n",
    "\n",
    "plt.subplot(4,1,2)\n",
    "plt.xlim(yrange)\n",
    "\n",
    "plt.scatter(XFreeAppsFeatures.prime_genre,np.clip(lm.predict(XFreeAppsFeaturesTrain),\n",
    "                        XFreeAppsFeatures['user_rating'].min(), XFreeAppsFeatures['user_rating'].max()),c='b',s=4,alpha=1)\n",
    "\n",
    "#plt.title('Residual plot')\n",
    "plt.ylabel('Predicted rating')\n",
    "plt.xlabel('Prime genre')\n"
   ]
  },
  {
   "cell_type": "code",
   "execution_count": 53,
   "metadata": {},
   "outputs": [
    {
     "name": "stderr",
     "output_type": "stream",
     "text": [
      "C:\\Users\\Dhwani\\Anaconda3\\lib\\site-packages\\sklearn\\preprocessing\\label.py:151: DeprecationWarning: The truth value of an empty array is ambiguous. Returning False, but in future this will result in an error. Use `array.size > 0` to check that an array is not empty.\n",
      "  if diff:\n"
     ]
    }
   ],
   "source": [
    "XFreeAppsFeatures['prime_genre'] = obj.inverse_transform(XFreeAppsFeatures['prime_genre'])"
   ]
  },
  {
   "cell_type": "code",
   "execution_count": 55,
   "metadata": {},
   "outputs": [
    {
     "name": "stdout",
     "output_type": "stream",
     "text": [
      "23\n"
     ]
    }
   ],
   "source": [
    "print(len(XFreeAppsFeatures['prime_genre'].unique()))"
   ]
  },
  {
   "cell_type": "code",
   "execution_count": 50,
   "metadata": {},
   "outputs": [
    {
     "data": {
      "text/plain": [
       "RandomForestRegressor(bootstrap=True, criterion='mse', max_depth=20,\n",
       "           max_features='auto', max_leaf_nodes=None,\n",
       "           min_impurity_decrease=0.0, min_impurity_split=None,\n",
       "           min_samples_leaf=1, min_samples_split=2,\n",
       "           min_weight_fraction_leaf=0.0, n_estimators=100, n_jobs=1,\n",
       "           oob_score=False, random_state=2, verbose=0, warm_start=False)"
      ]
     },
     "execution_count": 50,
     "metadata": {},
     "output_type": "execute_result"
    }
   ],
   "source": [
    "# Training model with paid apps rating using Random forest regressor\n",
    "\n",
    "regr_rf.fit(XPaidAppsFeaturesTrain,XPaidAppsFeatures.user_rating)"
   ]
  },
  {
   "cell_type": "code",
   "execution_count": 54,
   "metadata": {},
   "outputs": [
    {
     "data": {
      "text/plain": [
       "Text(0.5,0,'Prime genre')"
      ]
     },
     "execution_count": 54,
     "metadata": {},
     "output_type": "execute_result"
    },
    {
     "data": {
      "image/png": "[encoded data removed]",
      "text/plain": [
       "<Figure size 1080x720 with 3 Axes>"
      ]
     },
     "metadata": {},
     "output_type": "display_data"
    }
   ],
   "source": [
    "regr_rf.fit(XPaidAppsFeaturesTrain,XPaidAppsFeatures.user_rating)\n",
    "\n",
    "yrange = [0,15]\n",
    "fsize =15\n",
    "\n",
    "plt.figure(figsize=(15,10))\n",
    "\n",
    "plt.subplot(4,1,1)\n",
    "plt.xlim(yrange)\n",
    "plt.scatter(XFreeAppsFeatures.prime_genre,yFreeAppsRating,c='b',s=4,alpha=1)\n",
    "\n",
    "plt.title('Current vs predicted rating')\n",
    "plt.ylabel('predicted rating')\n",
    "#plt.xlabel('Prime genre')\n",
    "\n",
    "plt.subplot(4,1,2)\n",
    "plt.xlim(yrange)\n",
    "plt.scatter(XFreeAppsFeatures.prime_genre,np.clip(lm.predict(XFreeAppsFeaturesTrain),\n",
    "                        XFreeAppsFeatures['user_rating'].min(), XFreeAppsFeatures['user_rating'].max()),c='yellow',s=4,alpha=1)\n",
    "\n",
    "#plt.title('Residual plot')\n",
    "plt.ylabel('Predicted rating')\n",
    "\n",
    "plt.subplot(4,1,3)\n",
    "plt.xlim(yrange)\n",
    "\n",
    "plt.scatter(XFreeAppsFeatures.prime_genre,np.clip(regr_rf.predict(XFreeAppsFeaturesTrain),\n",
    "                        XFreeAppsFeatures['user_rating'].min(), XFreeAppsFeatures['user_rating'].max()),c='green',s=4,alpha=1)\n",
    "\n",
    "#plt.title('Residual plot')\n",
    "plt.ylabel('predicted rating')\n",
    "plt.xlabel('Prime genre')"
   ]
  },
  {
   "cell_type": "code",
   "execution_count": 45,
   "metadata": {},
   "outputs": [
    {
     "name": "stderr",
     "output_type": "stream",
     "text": [
      "C:\\Users\\Dhwani\\Anaconda3\\lib\\site-packages\\sklearn\\cross_validation.py:41: DeprecationWarning: This module was deprecated in version 0.18 in favor of the model_selection module into which all the refactored classes and functions are moved. Also note that the interface of the new CV iterators are different from that of this module. This module will be removed in 0.20.\n",
      "  \"This module will be removed in 0.20.\", DeprecationWarning)\n"
     ]
    }
   ],
   "source": [
    "# Applying XGBoost regressor model\n",
    "\n",
    "from sklearn import cross_validation, tree, linear_model\n",
    "\n",
    "X_train, X_test, y_train, y_test = cross_validation.train_test_split(X, y ,test_size=0.2)"
   ]
  },
  {
   "cell_type": "code",
   "execution_count": 46,
   "metadata": {},
   "outputs": [],
   "source": [
    "import xgboost\n",
    "\n",
    "xgb = xgboost.XGBRegressor(n_estimators=100, learning_rate=0.08, gamma=0, subsample=0.75,\n",
    "                           colsample_bytree=1, max_depth=7)"
   ]
  },
  {
   "cell_type": "code",
   "execution_count": 47,
   "metadata": {},
   "outputs": [
    {
     "data": {
      "text/plain": [
       "XGBRegressor(base_score=0.5, booster='gbtree', colsample_bylevel=1,\n",
       "       colsample_bytree=1, gamma=0, learning_rate=0.08, max_delta_step=0,\n",
       "       max_depth=7, min_child_weight=1, missing=None, n_estimators=100,\n",
       "       n_jobs=1, nthread=None, objective='reg:linear', random_state=0,\n",
       "       reg_alpha=0, reg_lambda=1, scale_pos_weight=1, seed=None,\n",
       "       silent=True, subsample=0.75)"
      ]
     },
     "execution_count": 47,
     "metadata": {},
     "output_type": "execute_result"
    }
   ],
   "source": [
    "#traindf, testdf = train_test_split(X_train, test_size = 0.3)\n",
    "xgb.fit(X_train,y_train)"
   ]
  },
  {
   "cell_type": "code",
   "execution_count": 48,
   "metadata": {},
   "outputs": [
    {
     "name": "stdout",
     "output_type": "stream",
     "text": [
      "5.0\n"
     ]
    }
   ],
   "source": [
    "print(y_train['user_rating'].max())"
   ]
  },
  {
   "cell_type": "code",
   "execution_count": 49,
   "metadata": {},
   "outputs": [
    {
     "name": "stdout",
     "output_type": "stream",
     "text": [
      "-2.33365373573409\n"
     ]
    }
   ],
   "source": [
    "from sklearn.metrics import explained_variance_score\n",
    "\n",
    "predictions = xgb.predict(X_test)\n",
    "#predictions = np.clip(xgb.predict(X_test), y_train['user_rating'].min(), y_train['user_rating'].max())\n",
    "print(explained_variance_score(predictions,y_test))\n",
    "\n",
    "#print(predictions)"
   ]
  },
  {
   "cell_type": "code",
   "execution_count": null,
   "metadata": {},
   "outputs": [],
   "source": []
  }
 ],
 "metadata": {
  "kernelspec": {
   "display_name": "Python 3",
   "language": "python",
   "name": "python3"
  },
  "language_info": {
   "codemirror_mode": {
    "name": "ipython",
    "version": 3
   },
   "file_extension": ".py",
   "mimetype": "text/x-python",
   "name": "python",
   "nbconvert_exporter": "python",
   "pygments_lexer": "ipython3",
   "version": "3.6.5"
  }
 },
 "nbformat": 4,
 "nbformat_minor": 2
}
